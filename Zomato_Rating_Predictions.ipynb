{
 "cells": [
  {
   "cell_type": "markdown",
   "metadata": {
    "id": "3WWGKQTeDr0w"
   },
   "source": [
    "---\n",
    "<h1 align='center'> Predicting Zomato Restaurants Ratings</h1>\n",
    "\n",
    "---"
   ]
  },
  {
   "cell_type": "markdown",
   "metadata": {},
   "source": [
    "# SUYASH PRATAP SINGH"
   ]
  },
  {
   "cell_type": "markdown",
   "metadata": {
    "id": "fKc6bUEnDr0x"
   },
   "source": [
    "# **1. Import the libraries**"
   ]
  },
  {
   "cell_type": "code",
   "execution_count": 1,
   "metadata": {
    "id": "Ofcx1oaKDr0x"
   },
   "outputs": [],
   "source": [
    "import numpy as np\n",
    "import pandas as pd\n",
    "import matplotlib.pyplot as plt\n",
    "import seaborn as sns\n",
    "%matplotlib inline"
   ]
  },
  {
   "cell_type": "code",
   "execution_count": 2,
   "metadata": {
    "id": "E5SuUt-rDr0x"
   },
   "outputs": [],
   "source": [
    "from sklearn.model_selection import train_test_split\n",
    "from sklearn.linear_model import LinearRegression,Ridge,Lasso,LogisticRegression\n",
    "from sklearn.ensemble import RandomForestRegressor"
   ]
  },
  {
   "cell_type": "markdown",
   "metadata": {
    "id": "e-klVxwvDr0x"
   },
   "source": [
    "---\n",
    "# **2. Load the data**"
   ]
  },
  {
   "cell_type": "code",
   "execution_count": 3,
   "metadata": {
    "id": "yNQL4J7WDr0x",
    "outputId": "2d95345c-c289-4b1e-faf5-4dc4968fcaf3"
   },
   "outputs": [
    {
     "data": {
      "text/html": [
       "<div>\n",
       "<style scoped>\n",
       "    .dataframe tbody tr th:only-of-type {\n",
       "        vertical-align: middle;\n",
       "    }\n",
       "\n",
       "    .dataframe tbody tr th {\n",
       "        vertical-align: top;\n",
       "    }\n",
       "\n",
       "    .dataframe thead th {\n",
       "        text-align: right;\n",
       "    }\n",
       "</style>\n",
       "<table border=\"1\" class=\"dataframe\">\n",
       "  <thead>\n",
       "    <tr style=\"text-align: right;\">\n",
       "      <th></th>\n",
       "      <th>url</th>\n",
       "      <th>address</th>\n",
       "      <th>name</th>\n",
       "      <th>online_order</th>\n",
       "      <th>book_table</th>\n",
       "      <th>votes</th>\n",
       "      <th>phone</th>\n",
       "      <th>location</th>\n",
       "      <th>rest_type</th>\n",
       "      <th>dish_liked</th>\n",
       "      <th>cuisines</th>\n",
       "      <th>approx_cost(for two people)</th>\n",
       "      <th>reviews_list</th>\n",
       "      <th>menu_item</th>\n",
       "      <th>listed_in(type)</th>\n",
       "      <th>listed_in(city)</th>\n",
       "      <th>rates</th>\n",
       "    </tr>\n",
       "  </thead>\n",
       "  <tbody>\n",
       "    <tr>\n",
       "      <th>0</th>\n",
       "      <td>https://www.zomato.com/bangalore/al-swaad-take...</td>\n",
       "      <td>18, Masjid Street, Opp Akbari Masjid Neelasand...</td>\n",
       "      <td>Al Swaad Take Away</td>\n",
       "      <td>Yes</td>\n",
       "      <td>No</td>\n",
       "      <td>13</td>\n",
       "      <td>+91 7019942388\\n+91 9902335220</td>\n",
       "      <td>Richmond Road</td>\n",
       "      <td>Quick Bites</td>\n",
       "      <td>NaN</td>\n",
       "      <td>North Indian, South Indian, Arabian</td>\n",
       "      <td>350</td>\n",
       "      <td>[('Rated 1.0', 'RATED\\n  If U need reasonable ...</td>\n",
       "      <td>['Beef Seekh Kabab', 'Beef BBQ Chops', 'Beef M...</td>\n",
       "      <td>Delivery</td>\n",
       "      <td>Residency Road</td>\n",
       "      <td>3.1</td>\n",
       "    </tr>\n",
       "    <tr>\n",
       "      <th>1</th>\n",
       "      <td>https://www.zomato.com/bangalore/the-boozy-gri...</td>\n",
       "      <td>2nd Floor, 1st A Cross Road, Jyothi Nivas Coll...</td>\n",
       "      <td>The Boozy Griffin</td>\n",
       "      <td>No</td>\n",
       "      <td>Yes</td>\n",
       "      <td>5015</td>\n",
       "      <td>080 33512954</td>\n",
       "      <td>Koramangala 5th Block</td>\n",
       "      <td>Casual Dining, Pub</td>\n",
       "      <td>Cocktails, Craft Beer, Salads, Devils Chicken,...</td>\n",
       "      <td>European, Continental</td>\n",
       "      <td>1,800</td>\n",
       "      <td>[('Rated 5.0', 'RATED\\n  Really great ambience...</td>\n",
       "      <td>[]</td>\n",
       "      <td>Dine-out</td>\n",
       "      <td>Koramangala 6th Block</td>\n",
       "      <td>4.6</td>\n",
       "    </tr>\n",
       "    <tr>\n",
       "      <th>2</th>\n",
       "      <td>https://www.zomato.com/bangalore/barkat-btm-ba...</td>\n",
       "      <td>28th, 8th Cross, Maruthi Nagar, Madiwala, BTM,...</td>\n",
       "      <td>Barkat</td>\n",
       "      <td>No</td>\n",
       "      <td>No</td>\n",
       "      <td>6</td>\n",
       "      <td>+91 9019670836</td>\n",
       "      <td>BTM</td>\n",
       "      <td>Quick Bites</td>\n",
       "      <td>NaN</td>\n",
       "      <td>Kerala</td>\n",
       "      <td>250</td>\n",
       "      <td>[]</td>\n",
       "      <td>[]</td>\n",
       "      <td>Dine-out</td>\n",
       "      <td>Koramangala 4th Block</td>\n",
       "      <td>3.4</td>\n",
       "    </tr>\n",
       "    <tr>\n",
       "      <th>3</th>\n",
       "      <td>https://www.zomato.com/bangalore/sriracha-lave...</td>\n",
       "      <td>204, 2nd Level, 4th Floor, Comet Block, UB Cit...</td>\n",
       "      <td>Sriracha</td>\n",
       "      <td>No</td>\n",
       "      <td>No</td>\n",
       "      <td>699</td>\n",
       "      <td>+91 8041755366\\n+91 7022422473</td>\n",
       "      <td>Lavelle Road</td>\n",
       "      <td>Casual Dining</td>\n",
       "      <td>Noodles, Laksa, Cocktails, Dumplings, Sangria,...</td>\n",
       "      <td>Thai, Chinese, Indonesian, Asian, Momos</td>\n",
       "      <td>1,500</td>\n",
       "      <td>[('Rated 3.0', 'RATED\\n  Another restaurant in...</td>\n",
       "      <td>[]</td>\n",
       "      <td>Dine-out</td>\n",
       "      <td>Residency Road</td>\n",
       "      <td>4.3</td>\n",
       "    </tr>\n",
       "    <tr>\n",
       "      <th>4</th>\n",
       "      <td>https://www.zomato.com/bangalore/sri-ganesh-ju...</td>\n",
       "      <td>513, Opposite Ganesh Temple, Koramangala 8th B...</td>\n",
       "      <td>Sri Ganesh Juice Junction</td>\n",
       "      <td>Yes</td>\n",
       "      <td>No</td>\n",
       "      <td>129</td>\n",
       "      <td>+91 9845623889</td>\n",
       "      <td>Koramangala 8th Block</td>\n",
       "      <td>Beverage Shop</td>\n",
       "      <td>NaN</td>\n",
       "      <td>Juices, Fast Food</td>\n",
       "      <td>150</td>\n",
       "      <td>[('Rated 4.0', 'RATED\\n  Good cafe with most v...</td>\n",
       "      <td>['Dry Fruit Milkshake', 'Wheat Grass with Wate...</td>\n",
       "      <td>Delivery</td>\n",
       "      <td>Koramangala 6th Block</td>\n",
       "      <td>3.7</td>\n",
       "    </tr>\n",
       "  </tbody>\n",
       "</table>\n",
       "</div>"
      ],
      "text/plain": [
       "                                                 url  \\\n",
       "0  https://www.zomato.com/bangalore/al-swaad-take...   \n",
       "1  https://www.zomato.com/bangalore/the-boozy-gri...   \n",
       "2  https://www.zomato.com/bangalore/barkat-btm-ba...   \n",
       "3  https://www.zomato.com/bangalore/sriracha-lave...   \n",
       "4  https://www.zomato.com/bangalore/sri-ganesh-ju...   \n",
       "\n",
       "                                             address  \\\n",
       "0  18, Masjid Street, Opp Akbari Masjid Neelasand...   \n",
       "1  2nd Floor, 1st A Cross Road, Jyothi Nivas Coll...   \n",
       "2  28th, 8th Cross, Maruthi Nagar, Madiwala, BTM,...   \n",
       "3  204, 2nd Level, 4th Floor, Comet Block, UB Cit...   \n",
       "4  513, Opposite Ganesh Temple, Koramangala 8th B...   \n",
       "\n",
       "                        name online_order book_table  votes  \\\n",
       "0         Al Swaad Take Away          Yes         No     13   \n",
       "1          The Boozy Griffin           No        Yes   5015   \n",
       "2                     Barkat           No         No      6   \n",
       "3                   Sriracha           No         No    699   \n",
       "4  Sri Ganesh Juice Junction          Yes         No    129   \n",
       "\n",
       "                            phone               location           rest_type  \\\n",
       "0  +91 7019942388\\n+91 9902335220          Richmond Road         Quick Bites   \n",
       "1                    080 33512954  Koramangala 5th Block  Casual Dining, Pub   \n",
       "2                  +91 9019670836                    BTM         Quick Bites   \n",
       "3  +91 8041755366\\n+91 7022422473           Lavelle Road       Casual Dining   \n",
       "4                  +91 9845623889  Koramangala 8th Block       Beverage Shop   \n",
       "\n",
       "                                          dish_liked  \\\n",
       "0                                                NaN   \n",
       "1  Cocktails, Craft Beer, Salads, Devils Chicken,...   \n",
       "2                                                NaN   \n",
       "3  Noodles, Laksa, Cocktails, Dumplings, Sangria,...   \n",
       "4                                                NaN   \n",
       "\n",
       "                                  cuisines approx_cost(for two people)  \\\n",
       "0      North Indian, South Indian, Arabian                         350   \n",
       "1                    European, Continental                       1,800   \n",
       "2                                   Kerala                         250   \n",
       "3  Thai, Chinese, Indonesian, Asian, Momos                       1,500   \n",
       "4                        Juices, Fast Food                         150   \n",
       "\n",
       "                                        reviews_list  \\\n",
       "0  [('Rated 1.0', 'RATED\\n  If U need reasonable ...   \n",
       "1  [('Rated 5.0', 'RATED\\n  Really great ambience...   \n",
       "2                                                 []   \n",
       "3  [('Rated 3.0', 'RATED\\n  Another restaurant in...   \n",
       "4  [('Rated 4.0', 'RATED\\n  Good cafe with most v...   \n",
       "\n",
       "                                           menu_item listed_in(type)  \\\n",
       "0  ['Beef Seekh Kabab', 'Beef BBQ Chops', 'Beef M...        Delivery   \n",
       "1                                                 []        Dine-out   \n",
       "2                                                 []        Dine-out   \n",
       "3                                                 []        Dine-out   \n",
       "4  ['Dry Fruit Milkshake', 'Wheat Grass with Wate...        Delivery   \n",
       "\n",
       "         listed_in(city) rates  \n",
       "0         Residency Road  3.1   \n",
       "1  Koramangala 6th Block  4.6   \n",
       "2  Koramangala 4th Block  3.4   \n",
       "3         Residency Road  4.3   \n",
       "4  Koramangala 6th Block  3.7   "
      ]
     },
     "execution_count": 3,
     "metadata": {},
     "output_type": "execute_result"
    }
   ],
   "source": [
    "df=pd.read_excel(r'C:\\Users\\Admin\\Downloads\\zomato_train.xlsx')\n",
    "df.head()"
   ]
  },
  {
   "cell_type": "markdown",
   "metadata": {
    "id": "ZArsJY9vDr0y"
   },
   "source": [
    "---\n",
    "# **3. Exploratory Data Analysis (EDA)**"
   ]
  },
  {
   "cell_type": "code",
   "execution_count": 4,
   "metadata": {
    "id": "m7WkFqOkDr0y",
    "outputId": "6b274e6b-26c4-47ca-d8d0-2cc624e69491"
   },
   "outputs": [
    {
     "data": {
      "text/html": [
       "<div>\n",
       "<style scoped>\n",
       "    .dataframe tbody tr th:only-of-type {\n",
       "        vertical-align: middle;\n",
       "    }\n",
       "\n",
       "    .dataframe tbody tr th {\n",
       "        vertical-align: top;\n",
       "    }\n",
       "\n",
       "    .dataframe thead th {\n",
       "        text-align: right;\n",
       "    }\n",
       "</style>\n",
       "<table border=\"1\" class=\"dataframe\">\n",
       "  <thead>\n",
       "    <tr style=\"text-align: right;\">\n",
       "      <th></th>\n",
       "      <th>url</th>\n",
       "      <th>address</th>\n",
       "      <th>name</th>\n",
       "      <th>online_order</th>\n",
       "      <th>book_table</th>\n",
       "      <th>votes</th>\n",
       "      <th>phone</th>\n",
       "      <th>location</th>\n",
       "      <th>rest_type</th>\n",
       "      <th>dish_liked</th>\n",
       "      <th>cuisines</th>\n",
       "      <th>approx_cost(for two people)</th>\n",
       "      <th>reviews_list</th>\n",
       "      <th>menu_item</th>\n",
       "      <th>listed_in(type)</th>\n",
       "      <th>listed_in(city)</th>\n",
       "      <th>rates</th>\n",
       "    </tr>\n",
       "  </thead>\n",
       "  <tbody>\n",
       "    <tr>\n",
       "      <th>41368</th>\n",
       "      <td>https://www.zomato.com/bangalore/koshys-st-mar...</td>\n",
       "      <td>39, St. Marks Road, Bangalore</td>\n",
       "      <td>Koshy's</td>\n",
       "      <td>No</td>\n",
       "      <td>No</td>\n",
       "      <td>2332</td>\n",
       "      <td>080 22915840\\n080 22213793</td>\n",
       "      <td>St. Marks Road</td>\n",
       "      <td>Casual Dining</td>\n",
       "      <td>Coffee, Kulfi, Beef Steak, Chocolate Shake, Sa...</td>\n",
       "      <td>South Indian, North Indian, Chinese, Beverages</td>\n",
       "      <td>700</td>\n",
       "      <td>[('Rated 4.0', 'RATED\\n  A place where you get...</td>\n",
       "      <td>[]</td>\n",
       "      <td>Dine-out</td>\n",
       "      <td>Residency Road</td>\n",
       "      <td>3.8</td>\n",
       "    </tr>\n",
       "    <tr>\n",
       "      <th>41369</th>\n",
       "      <td>https://www.zomato.com/bangalore/midnight-spec...</td>\n",
       "      <td>521, 2nd Floor, Teachers Colony, Sarjapura Rin...</td>\n",
       "      <td>Midnight Special</td>\n",
       "      <td>Yes</td>\n",
       "      <td>No</td>\n",
       "      <td>0</td>\n",
       "      <td>+91 80420780493</td>\n",
       "      <td>HSR</td>\n",
       "      <td>Takeaway, Delivery</td>\n",
       "      <td>NaN</td>\n",
       "      <td>North Indian, Fast Food, Chinese</td>\n",
       "      <td>500</td>\n",
       "      <td>[]</td>\n",
       "      <td>[]</td>\n",
       "      <td>Delivery</td>\n",
       "      <td>Koramangala 4th Block</td>\n",
       "      <td>NaN</td>\n",
       "    </tr>\n",
       "    <tr>\n",
       "      <th>41370</th>\n",
       "      <td>https://www.zomato.com/bangalore/sholay-the-ba...</td>\n",
       "      <td>1, RMV 2nd Stage, 3rd Block, Chikkamaranahalli...</td>\n",
       "      <td>Sholay - The Barbeque</td>\n",
       "      <td>Yes</td>\n",
       "      <td>Yes</td>\n",
       "      <td>45</td>\n",
       "      <td>+91 7619328882</td>\n",
       "      <td>New BEL Road</td>\n",
       "      <td>Casual Dining</td>\n",
       "      <td>NaN</td>\n",
       "      <td>North Indian, BBQ</td>\n",
       "      <td>1,200</td>\n",
       "      <td>[('Rated 2.0', 'RATED\\n  That building homes t...</td>\n",
       "      <td>[]</td>\n",
       "      <td>Dine-out</td>\n",
       "      <td>New BEL Road</td>\n",
       "      <td>3.5</td>\n",
       "    </tr>\n",
       "    <tr>\n",
       "      <th>41371</th>\n",
       "      <td>https://www.zomato.com/bangalore/ghar-ka-bhoja...</td>\n",
       "      <td>93, 1st Floor, Opoosite Venkateshwara Temple, ...</td>\n",
       "      <td>Ghar Ka Bhojan</td>\n",
       "      <td>No</td>\n",
       "      <td>No</td>\n",
       "      <td>7</td>\n",
       "      <td>+91 9945810850\\n+91 9997888609</td>\n",
       "      <td>Domlur</td>\n",
       "      <td>Delivery</td>\n",
       "      <td>NaN</td>\n",
       "      <td>North Indian, Healthy Food</td>\n",
       "      <td>200</td>\n",
       "      <td>[('Rated 1.0', 'RATED\\n  Food not upto the mar...</td>\n",
       "      <td>[]</td>\n",
       "      <td>Delivery</td>\n",
       "      <td>MG Road</td>\n",
       "      <td>3.3</td>\n",
       "    </tr>\n",
       "    <tr>\n",
       "      <th>41372</th>\n",
       "      <td>https://www.zomato.com/bangalore/sree-sagar-ba...</td>\n",
       "      <td>8, Yarab Nagar Main Road, 2nd Stage, Banashank...</td>\n",
       "      <td>Sree Sagar</td>\n",
       "      <td>Yes</td>\n",
       "      <td>No</td>\n",
       "      <td>0</td>\n",
       "      <td>+91 9449150005</td>\n",
       "      <td>Banashankari</td>\n",
       "      <td>Quick Bites</td>\n",
       "      <td>NaN</td>\n",
       "      <td>South Indian</td>\n",
       "      <td>200</td>\n",
       "      <td>[('Rated 3.5', \"RATED\\n  Visited this restaura...</td>\n",
       "      <td>[]</td>\n",
       "      <td>Dine-out</td>\n",
       "      <td>Basavanagudi</td>\n",
       "      <td>NaN</td>\n",
       "    </tr>\n",
       "  </tbody>\n",
       "</table>\n",
       "</div>"
      ],
      "text/plain": [
       "                                                     url  \\\n",
       "41368  https://www.zomato.com/bangalore/koshys-st-mar...   \n",
       "41369  https://www.zomato.com/bangalore/midnight-spec...   \n",
       "41370  https://www.zomato.com/bangalore/sholay-the-ba...   \n",
       "41371  https://www.zomato.com/bangalore/ghar-ka-bhoja...   \n",
       "41372  https://www.zomato.com/bangalore/sree-sagar-ba...   \n",
       "\n",
       "                                                 address  \\\n",
       "41368                      39, St. Marks Road, Bangalore   \n",
       "41369  521, 2nd Floor, Teachers Colony, Sarjapura Rin...   \n",
       "41370  1, RMV 2nd Stage, 3rd Block, Chikkamaranahalli...   \n",
       "41371  93, 1st Floor, Opoosite Venkateshwara Temple, ...   \n",
       "41372  8, Yarab Nagar Main Road, 2nd Stage, Banashank...   \n",
       "\n",
       "                        name online_order book_table  votes  \\\n",
       "41368                Koshy's           No         No   2332   \n",
       "41369       Midnight Special          Yes         No      0   \n",
       "41370  Sholay - The Barbeque          Yes        Yes     45   \n",
       "41371         Ghar Ka Bhojan           No         No      7   \n",
       "41372             Sree Sagar          Yes         No      0   \n",
       "\n",
       "                                phone        location           rest_type  \\\n",
       "41368      080 22915840\\n080 22213793  St. Marks Road       Casual Dining   \n",
       "41369                 +91 80420780493             HSR  Takeaway, Delivery   \n",
       "41370                  +91 7619328882    New BEL Road       Casual Dining   \n",
       "41371  +91 9945810850\\n+91 9997888609          Domlur            Delivery   \n",
       "41372                  +91 9449150005    Banashankari         Quick Bites   \n",
       "\n",
       "                                              dish_liked  \\\n",
       "41368  Coffee, Kulfi, Beef Steak, Chocolate Shake, Sa...   \n",
       "41369                                                NaN   \n",
       "41370                                                NaN   \n",
       "41371                                                NaN   \n",
       "41372                                                NaN   \n",
       "\n",
       "                                             cuisines  \\\n",
       "41368  South Indian, North Indian, Chinese, Beverages   \n",
       "41369                North Indian, Fast Food, Chinese   \n",
       "41370                               North Indian, BBQ   \n",
       "41371                      North Indian, Healthy Food   \n",
       "41372                                    South Indian   \n",
       "\n",
       "      approx_cost(for two people)  \\\n",
       "41368                         700   \n",
       "41369                         500   \n",
       "41370                       1,200   \n",
       "41371                         200   \n",
       "41372                         200   \n",
       "\n",
       "                                            reviews_list menu_item  \\\n",
       "41368  [('Rated 4.0', 'RATED\\n  A place where you get...        []   \n",
       "41369                                                 []        []   \n",
       "41370  [('Rated 2.0', 'RATED\\n  That building homes t...        []   \n",
       "41371  [('Rated 1.0', 'RATED\\n  Food not upto the mar...        []   \n",
       "41372  [('Rated 3.5', \"RATED\\n  Visited this restaura...        []   \n",
       "\n",
       "      listed_in(type)        listed_in(city) rates  \n",
       "41368        Dine-out         Residency Road  3.8   \n",
       "41369        Delivery  Koramangala 4th Block   NaN  \n",
       "41370        Dine-out           New BEL Road  3.5   \n",
       "41371        Delivery                MG Road  3.3   \n",
       "41372        Dine-out           Basavanagudi   NaN  "
      ]
     },
     "execution_count": 4,
     "metadata": {},
     "output_type": "execute_result"
    }
   ],
   "source": [
    "df.tail()"
   ]
  },
  {
   "cell_type": "code",
   "execution_count": 5,
   "metadata": {
    "id": "9P-NxHIzDr0y",
    "outputId": "98252720-543f-4a3d-faa5-92c7d23650e1"
   },
   "outputs": [
    {
     "data": {
      "text/plain": [
       "(41373, 17)"
      ]
     },
     "execution_count": 5,
     "metadata": {},
     "output_type": "execute_result"
    }
   ],
   "source": [
    "# shape of data\n",
    "df.shape"
   ]
  },
  {
   "cell_type": "markdown",
   "metadata": {
    "id": "50jvc5FTDr0y"
   },
   "source": [
    "### dataset have 41373 rows and 17 columns"
   ]
  },
  {
   "cell_type": "code",
   "execution_count": 6,
   "metadata": {
    "id": "eSxyB0waDr0y",
    "outputId": "55a26345-e450-4494-f80b-e0185ead908e"
   },
   "outputs": [
    {
     "name": "stdout",
     "output_type": "stream",
     "text": [
      "<class 'pandas.core.frame.DataFrame'>\n",
      "RangeIndex: 41373 entries, 0 to 41372\n",
      "Data columns (total 17 columns):\n",
      " #   Column                       Non-Null Count  Dtype \n",
      "---  ------                       --------------  ----- \n",
      " 0   url                          41373 non-null  object\n",
      " 1   address                      41373 non-null  object\n",
      " 2   name                         41373 non-null  object\n",
      " 3   online_order                 41373 non-null  object\n",
      " 4   book_table                   41373 non-null  object\n",
      " 5   votes                        41373 non-null  int64 \n",
      " 6   phone                        40402 non-null  object\n",
      " 7   location                     41358 non-null  object\n",
      " 8   rest_type                    41198 non-null  object\n",
      " 9   dish_liked                   18901 non-null  object\n",
      " 10  cuisines                     41341 non-null  object\n",
      " 11  approx_cost(for two people)  41094 non-null  object\n",
      " 12  reviews_list                 41373 non-null  object\n",
      " 13  menu_item                    41373 non-null  object\n",
      " 14  listed_in(type)              41373 non-null  object\n",
      " 15  listed_in(city)              41373 non-null  object\n",
      " 16  rates                        33392 non-null  object\n",
      "dtypes: int64(1), object(16)\n",
      "memory usage: 5.4+ MB\n"
     ]
    }
   ],
   "source": [
    "df.info()"
   ]
  },
  {
   "cell_type": "markdown",
   "metadata": {
    "id": "lYwZRTDaDr0y"
   },
   "source": [
    "### we have some null value in dataset"
   ]
  },
  {
   "cell_type": "markdown",
   "metadata": {
    "id": "PJXoe6hMDr0y"
   },
   "source": [
    "### check how many null value in each columns"
   ]
  },
  {
   "cell_type": "code",
   "execution_count": 7,
   "metadata": {
    "id": "OU2HKk0zDr0y",
    "outputId": "991b5a38-7b31-4f48-9e6c-f00baf7dcf46"
   },
   "outputs": [
    {
     "data": {
      "text/plain": [
       "url                                0\n",
       "address                            0\n",
       "name                               0\n",
       "online_order                       0\n",
       "book_table                         0\n",
       "votes                              0\n",
       "phone                            971\n",
       "location                          15\n",
       "rest_type                        175\n",
       "dish_liked                     22472\n",
       "cuisines                          32\n",
       "approx_cost(for two people)      279\n",
       "reviews_list                       0\n",
       "menu_item                          0\n",
       "listed_in(type)                    0\n",
       "listed_in(city)                    0\n",
       "rates                           7981\n",
       "dtype: int64"
      ]
     },
     "execution_count": 7,
     "metadata": {},
     "output_type": "execute_result"
    }
   ],
   "source": [
    "df.isna().sum()"
   ]
  },
  {
   "cell_type": "code",
   "execution_count": 8,
   "metadata": {
    "id": "lgPxOSmhDr0y",
    "outputId": "90276052-d48f-491a-d2cc-e41eb83e01d4"
   },
   "outputs": [
    {
     "data": {
      "text/plain": [
       "Index(['url', 'address', 'name', 'online_order', 'book_table', 'votes',\n",
       "       'phone', 'location', 'rest_type', 'dish_liked', 'cuisines',\n",
       "       'approx_cost(for two people)', 'reviews_list', 'menu_item',\n",
       "       'listed_in(type)', 'listed_in(city)', 'rates'],\n",
       "      dtype='object')"
      ]
     },
     "execution_count": 8,
     "metadata": {},
     "output_type": "execute_result"
    }
   ],
   "source": [
    "#columns in datasset\n",
    "df.columns"
   ]
  },
  {
   "cell_type": "markdown",
   "metadata": {
    "id": "WfYnIK3-Dr0z"
   },
   "source": [
    "---\n",
    "## 3.1 Dropped irrelevant Columns"
   ]
  },
  {
   "cell_type": "code",
   "execution_count": 9,
   "metadata": {
    "id": "IBoeFtDADr0z",
    "outputId": "992bb8e4-c6f6-4040-be3a-3b4a1d58ed1d"
   },
   "outputs": [
    {
     "data": {
      "text/html": [
       "<div>\n",
       "<style scoped>\n",
       "    .dataframe tbody tr th:only-of-type {\n",
       "        vertical-align: middle;\n",
       "    }\n",
       "\n",
       "    .dataframe tbody tr th {\n",
       "        vertical-align: top;\n",
       "    }\n",
       "\n",
       "    .dataframe thead th {\n",
       "        text-align: right;\n",
       "    }\n",
       "</style>\n",
       "<table border=\"1\" class=\"dataframe\">\n",
       "  <thead>\n",
       "    <tr style=\"text-align: right;\">\n",
       "      <th></th>\n",
       "      <th>online_order</th>\n",
       "      <th>book_table</th>\n",
       "      <th>votes</th>\n",
       "      <th>location</th>\n",
       "      <th>rest_type</th>\n",
       "      <th>dish_liked</th>\n",
       "      <th>cuisines</th>\n",
       "      <th>approx_cost(for two people)</th>\n",
       "      <th>listed_in(type)</th>\n",
       "      <th>listed_in(city)</th>\n",
       "      <th>rates</th>\n",
       "    </tr>\n",
       "  </thead>\n",
       "  <tbody>\n",
       "    <tr>\n",
       "      <th>0</th>\n",
       "      <td>Yes</td>\n",
       "      <td>No</td>\n",
       "      <td>13</td>\n",
       "      <td>Richmond Road</td>\n",
       "      <td>Quick Bites</td>\n",
       "      <td>NaN</td>\n",
       "      <td>North Indian, South Indian, Arabian</td>\n",
       "      <td>350</td>\n",
       "      <td>Delivery</td>\n",
       "      <td>Residency Road</td>\n",
       "      <td>3.1</td>\n",
       "    </tr>\n",
       "    <tr>\n",
       "      <th>1</th>\n",
       "      <td>No</td>\n",
       "      <td>Yes</td>\n",
       "      <td>5015</td>\n",
       "      <td>Koramangala 5th Block</td>\n",
       "      <td>Casual Dining, Pub</td>\n",
       "      <td>Cocktails, Craft Beer, Salads, Devils Chicken,...</td>\n",
       "      <td>European, Continental</td>\n",
       "      <td>1,800</td>\n",
       "      <td>Dine-out</td>\n",
       "      <td>Koramangala 6th Block</td>\n",
       "      <td>4.6</td>\n",
       "    </tr>\n",
       "    <tr>\n",
       "      <th>2</th>\n",
       "      <td>No</td>\n",
       "      <td>No</td>\n",
       "      <td>6</td>\n",
       "      <td>BTM</td>\n",
       "      <td>Quick Bites</td>\n",
       "      <td>NaN</td>\n",
       "      <td>Kerala</td>\n",
       "      <td>250</td>\n",
       "      <td>Dine-out</td>\n",
       "      <td>Koramangala 4th Block</td>\n",
       "      <td>3.4</td>\n",
       "    </tr>\n",
       "    <tr>\n",
       "      <th>3</th>\n",
       "      <td>No</td>\n",
       "      <td>No</td>\n",
       "      <td>699</td>\n",
       "      <td>Lavelle Road</td>\n",
       "      <td>Casual Dining</td>\n",
       "      <td>Noodles, Laksa, Cocktails, Dumplings, Sangria,...</td>\n",
       "      <td>Thai, Chinese, Indonesian, Asian, Momos</td>\n",
       "      <td>1,500</td>\n",
       "      <td>Dine-out</td>\n",
       "      <td>Residency Road</td>\n",
       "      <td>4.3</td>\n",
       "    </tr>\n",
       "    <tr>\n",
       "      <th>4</th>\n",
       "      <td>Yes</td>\n",
       "      <td>No</td>\n",
       "      <td>129</td>\n",
       "      <td>Koramangala 8th Block</td>\n",
       "      <td>Beverage Shop</td>\n",
       "      <td>NaN</td>\n",
       "      <td>Juices, Fast Food</td>\n",
       "      <td>150</td>\n",
       "      <td>Delivery</td>\n",
       "      <td>Koramangala 6th Block</td>\n",
       "      <td>3.7</td>\n",
       "    </tr>\n",
       "  </tbody>\n",
       "</table>\n",
       "</div>"
      ],
      "text/plain": [
       "  online_order book_table  votes               location           rest_type  \\\n",
       "0          Yes         No     13          Richmond Road         Quick Bites   \n",
       "1           No        Yes   5015  Koramangala 5th Block  Casual Dining, Pub   \n",
       "2           No         No      6                    BTM         Quick Bites   \n",
       "3           No         No    699           Lavelle Road       Casual Dining   \n",
       "4          Yes         No    129  Koramangala 8th Block       Beverage Shop   \n",
       "\n",
       "                                          dish_liked  \\\n",
       "0                                                NaN   \n",
       "1  Cocktails, Craft Beer, Salads, Devils Chicken,...   \n",
       "2                                                NaN   \n",
       "3  Noodles, Laksa, Cocktails, Dumplings, Sangria,...   \n",
       "4                                                NaN   \n",
       "\n",
       "                                  cuisines approx_cost(for two people)  \\\n",
       "0      North Indian, South Indian, Arabian                         350   \n",
       "1                    European, Continental                       1,800   \n",
       "2                                   Kerala                         250   \n",
       "3  Thai, Chinese, Indonesian, Asian, Momos                       1,500   \n",
       "4                        Juices, Fast Food                         150   \n",
       "\n",
       "  listed_in(type)        listed_in(city) rates  \n",
       "0        Delivery         Residency Road  3.1   \n",
       "1        Dine-out  Koramangala 6th Block  4.6   \n",
       "2        Dine-out  Koramangala 4th Block  3.4   \n",
       "3        Dine-out         Residency Road  4.3   \n",
       "4        Delivery  Koramangala 6th Block  3.7   "
      ]
     },
     "execution_count": 9,
     "metadata": {},
     "output_type": "execute_result"
    }
   ],
   "source": [
    "del df['url']\n",
    "del df['address']\n",
    "del df['phone']\n",
    "del df['reviews_list']\n",
    "del df['menu_item']\n",
    "del df['name']\n",
    "df.head()"
   ]
  },
  {
   "cell_type": "markdown",
   "metadata": {
    "id": "25znj_KTDr0z"
   },
   "source": [
    "---\n",
    "## 3.2 Remove Duplicates value"
   ]
  },
  {
   "cell_type": "code",
   "execution_count": 10,
   "metadata": {
    "id": "MLq-IVSTDr0z",
    "outputId": "6f7c5448-6282-4020-fcec-71add194e18f"
   },
   "outputs": [
    {
     "data": {
      "text/plain": [
       "283"
      ]
     },
     "execution_count": 10,
     "metadata": {},
     "output_type": "execute_result"
    }
   ],
   "source": [
    "df.duplicated().sum()"
   ]
  },
  {
   "cell_type": "markdown",
   "metadata": {
    "id": "n7Bi512RDr0z"
   },
   "source": [
    "### We have 64 duplicated values so drop it"
   ]
  },
  {
   "cell_type": "code",
   "execution_count": 11,
   "metadata": {
    "id": "8txhMxq0Dr0z"
   },
   "outputs": [],
   "source": [
    "df.drop_duplicates(inplace=True)"
   ]
  },
  {
   "cell_type": "markdown",
   "metadata": {
    "id": "FDvUDIYgDr0z"
   },
   "source": [
    "---\n",
    "## 3.3 Removing Null Values"
   ]
  },
  {
   "cell_type": "code",
   "execution_count": 12,
   "metadata": {
    "id": "zsp2YLfDDr0z",
    "outputId": "cee332dd-7be7-4e91-97ff-a92ce0aaddd4"
   },
   "outputs": [
    {
     "data": {
      "text/plain": [
       "online_order                    0.000000\n",
       "book_table                      0.000000\n",
       "votes                           0.000000\n",
       "location                        0.034072\n",
       "rest_type                       0.423461\n",
       "dish_liked                     54.066683\n",
       "cuisines                        0.075444\n",
       "approx_cost(for two people)     0.674130\n",
       "listed_in(type)                 0.000000\n",
       "listed_in(city)                 0.000000\n",
       "rates                          18.856169\n",
       "dtype: float64"
      ]
     },
     "execution_count": 12,
     "metadata": {},
     "output_type": "execute_result"
    }
   ],
   "source": [
    "# check null value percent\n",
    "(df.isna().sum()/df.shape[0])*100"
   ]
  },
  {
   "cell_type": "code",
   "execution_count": 13,
   "metadata": {
    "id": "qyI-9rHaDr0z",
    "outputId": "d9eadc5d-ef20-4ea5-a998-c89353ec0454"
   },
   "outputs": [
    {
     "data": {
      "text/plain": [
       "22216"
      ]
     },
     "execution_count": 13,
     "metadata": {},
     "output_type": "execute_result"
    }
   ],
   "source": [
    "df['dish_liked'].isna().sum()"
   ]
  },
  {
   "cell_type": "code",
   "execution_count": 14,
   "metadata": {
    "id": "JdiGG-yTDr0z",
    "outputId": "6b0fe84a-4bdd-4a7e-9bed-9b9e8f65d9d5"
   },
   "outputs": [
    {
     "name": "stdout",
     "output_type": "stream",
     "text": [
      "<class 'pandas.core.frame.DataFrame'>\n",
      "Int64Index: 41090 entries, 0 to 41372\n",
      "Data columns (total 11 columns):\n",
      " #   Column                       Non-Null Count  Dtype \n",
      "---  ------                       --------------  ----- \n",
      " 0   online_order                 41090 non-null  object\n",
      " 1   book_table                   41090 non-null  object\n",
      " 2   votes                        41090 non-null  int32 \n",
      " 3   location                     41076 non-null  object\n",
      " 4   rest_type                    40916 non-null  object\n",
      " 5   dish_liked                   18874 non-null  object\n",
      " 6   cuisines                     41059 non-null  object\n",
      " 7   approx_cost(for two people)  40813 non-null  object\n",
      " 8   listed_in(type)              41090 non-null  object\n",
      " 9   listed_in(city)              41090 non-null  object\n",
      " 10  rates                        33342 non-null  object\n",
      "dtypes: int32(1), object(10)\n",
      "memory usage: 3.6+ MB\n"
     ]
    }
   ],
   "source": [
    "df['votes']=df['votes'].astype('int32')\n",
    "df.info()"
   ]
  },
  {
   "cell_type": "markdown",
   "metadata": {
    "id": "AXYmlPBqDr0z"
   },
   "source": [
    "### Dish_liked column has 22435 Null value almost half of total rows"
   ]
  },
  {
   "cell_type": "code",
   "execution_count": 15,
   "metadata": {
    "id": "cKSRZ9t6Dr0z",
    "outputId": "e334e304-a51b-4577-86ed-f7bb99b80e81"
   },
   "outputs": [
    {
     "data": {
      "text/plain": [
       "7748"
      ]
     },
     "execution_count": 15,
     "metadata": {},
     "output_type": "execute_result"
    }
   ],
   "source": [
    "df['rates'].isna().sum()"
   ]
  },
  {
   "cell_type": "markdown",
   "metadata": {
    "id": "cgr7r3fhDr0z"
   },
   "source": [
    "### Rates column has also 7964 Null values"
   ]
  },
  {
   "cell_type": "code",
   "execution_count": 16,
   "metadata": {
    "id": "w-HOdfLCDr0z",
    "outputId": "d3db9285-6128-4bec-cb8e-d183aadf2444"
   },
   "outputs": [
    {
     "data": {
      "text/plain": [
       "array(['3.1 ', '4.6 ', '3.4 ', '4.3 ', '3.7 ', '3.0', '3.9 ', '4.1',\n",
       "       '3.6', '3.8 ', '3.2', '3.6 ', nan, '3.2 ', '3.3 ', '2.9', '4.4',\n",
       "       '3.9', '4.3', '3.8', '3.4', '4.2 ', '3.7', '4.1 ', '4.0 ', '3.5',\n",
       "       '2.7 ', '4.5', '4.6', '4.2', '4.7', '2.9 ', '3.5 ', '2.8 ', '2.7',\n",
       "       '3.1', '3.0 ', '4.4 ', '2.2', '4.5 ', '3.3', '2.6', '4.0', '2.8',\n",
       "       '-', '2.5', '2.6 ', '4.7 ', '2.3', '4.8', '4.8 ', '2.3 ', '2.4 ',\n",
       "       '2.5 ', '4.9 ', '4.9', '2.4', '2.1', '2.0 ', '1.8', '2.2 ', '2.1 ',\n",
       "       '2.0', '1.8 '], dtype=object)"
      ]
     },
     "execution_count": 16,
     "metadata": {},
     "output_type": "execute_result"
    }
   ],
   "source": [
    "#unique rating in rates columns\n",
    "df['rates'].unique()"
   ]
  },
  {
   "cell_type": "markdown",
   "metadata": {
    "id": "8xi76OBfDr0z"
   },
   "source": [
    "### See we have 'nan' into Rates columns, 'nan' treated as a String Not as a Null value"
   ]
  },
  {
   "cell_type": "markdown",
   "metadata": {
    "id": "k7asG5uMDr0z"
   },
   "source": [
    "###  Removing '-' and \" \" from rate column"
   ]
  },
  {
   "cell_type": "code",
   "execution_count": 17,
   "metadata": {
    "id": "B1DArtxPDr0z",
    "outputId": "953e3df5-56cf-4f5b-ad64-5314d8c47646"
   },
   "outputs": [
    {
     "data": {
      "text/plain": [
       "array(['3.1', '4.6', '3.4', '4.3', '3.7', '3.0', '3.9', '4.1', '3.6',\n",
       "       '3.8', '3.2', 'NaN', '3.3', '2.9', '4.4', '4.2', '4.0', '3.5',\n",
       "       '2.7', '4.5', '4.7', '2.8', '2.2', '2.6', '2.5', '2.3', '4.8',\n",
       "       '2.4', '4.9', '2.1', '2.0', '1.8'], dtype=object)"
      ]
     },
     "execution_count": 17,
     "metadata": {},
     "output_type": "execute_result"
    }
   ],
   "source": [
    "#df.rates.str.replace('-',np.NaN)\n",
    "df['rates']=df['rates'].str.replace(\" \",\"\")\n",
    "df['rates']=df['rates'].str.replace('-','NaN')\n",
    "df['rates']=df['rates'].fillna('NaN')\n",
    "df['rates'].unique()"
   ]
  },
  {
   "cell_type": "markdown",
   "metadata": {
    "id": "90Y5jsX8Dr0z"
   },
   "source": [
    "### Remove ',' from \"approx_cost(for two people)\" columns"
   ]
  },
  {
   "cell_type": "code",
   "execution_count": 18,
   "metadata": {
    "id": "FpOkCPvfDr0z",
    "outputId": "24345ec4-7f4e-428d-bc35-e07b82d72c0a"
   },
   "outputs": [
    {
     "data": {
      "text/plain": [
       "array(['350', '1800', '250', '1500', '150', '1000', '450', '2500', '700',\n",
       "       '600', '400', '300', '500', '650', '800', '200', '100', '3500',\n",
       "       nan, '550', '1200', '950', '2100', '1700', '1600', '750', '2000',\n",
       "       '850', '2200', '1300', '900', '1100', '330', '3000', '199', '4000',\n",
       "       '2600', '80', '1400', '230', '140', '180', '40', '1900', '2400',\n",
       "       '2800', '130', '1050', '50', '120', '360', '1450', '1250', '1350',\n",
       "       '6000', '70', '4500', '4100', '160', '2300', '5000', '3200',\n",
       "       '3700', '1650', '3400', '240', '2700', '190', '60'], dtype=object)"
      ]
     },
     "execution_count": 18,
     "metadata": {},
     "output_type": "execute_result"
    }
   ],
   "source": [
    "df['approx_cost(for two people)']=df['approx_cost(for two people)'].str.replace(\",\",\"\")\n",
    "df['approx_cost(for two people)'].unique()"
   ]
  },
  {
   "cell_type": "code",
   "execution_count": 19,
   "metadata": {
    "id": "n72Rgb8IDr0z",
    "outputId": "e935daa3-cfd3-4d59-b2b4-17fa3aaea67e"
   },
   "outputs": [
    {
     "data": {
      "text/plain": [
       "online_order                       0\n",
       "book_table                         0\n",
       "votes                              0\n",
       "location                          14\n",
       "rest_type                        174\n",
       "dish_liked                     22216\n",
       "cuisines                          31\n",
       "approx_cost(for two people)      277\n",
       "listed_in(type)                    0\n",
       "listed_in(city)                    0\n",
       "rates                              0\n",
       "dtype: int64"
      ]
     },
     "execution_count": 19,
     "metadata": {},
     "output_type": "execute_result"
    }
   ],
   "source": [
    "df.isna().sum()"
   ]
  },
  {
   "cell_type": "markdown",
   "metadata": {
    "id": "6jOMbnzlDr00"
   },
   "source": [
    "### Rename the columns"
   ]
  },
  {
   "cell_type": "code",
   "execution_count": 20,
   "metadata": {
    "id": "ZapYrpptDr00",
    "outputId": "a6f67195-1e0d-4b3a-de07-59baccaee3ec"
   },
   "outputs": [
    {
     "data": {
      "text/html": [
       "<div>\n",
       "<style scoped>\n",
       "    .dataframe tbody tr th:only-of-type {\n",
       "        vertical-align: middle;\n",
       "    }\n",
       "\n",
       "    .dataframe tbody tr th {\n",
       "        vertical-align: top;\n",
       "    }\n",
       "\n",
       "    .dataframe thead th {\n",
       "        text-align: right;\n",
       "    }\n",
       "</style>\n",
       "<table border=\"1\" class=\"dataframe\">\n",
       "  <thead>\n",
       "    <tr style=\"text-align: right;\">\n",
       "      <th></th>\n",
       "      <th>online_order</th>\n",
       "      <th>book_table</th>\n",
       "      <th>votes</th>\n",
       "      <th>location</th>\n",
       "      <th>rest_type</th>\n",
       "      <th>dish_liked</th>\n",
       "      <th>cuisines</th>\n",
       "      <th>avg_cost</th>\n",
       "      <th>meal_type</th>\n",
       "      <th>city</th>\n",
       "      <th>rates</th>\n",
       "    </tr>\n",
       "  </thead>\n",
       "  <tbody>\n",
       "    <tr>\n",
       "      <th>0</th>\n",
       "      <td>Yes</td>\n",
       "      <td>No</td>\n",
       "      <td>13</td>\n",
       "      <td>Richmond Road</td>\n",
       "      <td>Quick Bites</td>\n",
       "      <td>NaN</td>\n",
       "      <td>North Indian, South Indian, Arabian</td>\n",
       "      <td>350</td>\n",
       "      <td>Delivery</td>\n",
       "      <td>Residency Road</td>\n",
       "      <td>3.1</td>\n",
       "    </tr>\n",
       "    <tr>\n",
       "      <th>1</th>\n",
       "      <td>No</td>\n",
       "      <td>Yes</td>\n",
       "      <td>5015</td>\n",
       "      <td>Koramangala 5th Block</td>\n",
       "      <td>Casual Dining, Pub</td>\n",
       "      <td>Cocktails, Craft Beer, Salads, Devils Chicken,...</td>\n",
       "      <td>European, Continental</td>\n",
       "      <td>1800</td>\n",
       "      <td>Dine-out</td>\n",
       "      <td>Koramangala 6th Block</td>\n",
       "      <td>4.6</td>\n",
       "    </tr>\n",
       "    <tr>\n",
       "      <th>2</th>\n",
       "      <td>No</td>\n",
       "      <td>No</td>\n",
       "      <td>6</td>\n",
       "      <td>BTM</td>\n",
       "      <td>Quick Bites</td>\n",
       "      <td>NaN</td>\n",
       "      <td>Kerala</td>\n",
       "      <td>250</td>\n",
       "      <td>Dine-out</td>\n",
       "      <td>Koramangala 4th Block</td>\n",
       "      <td>3.4</td>\n",
       "    </tr>\n",
       "    <tr>\n",
       "      <th>3</th>\n",
       "      <td>No</td>\n",
       "      <td>No</td>\n",
       "      <td>699</td>\n",
       "      <td>Lavelle Road</td>\n",
       "      <td>Casual Dining</td>\n",
       "      <td>Noodles, Laksa, Cocktails, Dumplings, Sangria,...</td>\n",
       "      <td>Thai, Chinese, Indonesian, Asian, Momos</td>\n",
       "      <td>1500</td>\n",
       "      <td>Dine-out</td>\n",
       "      <td>Residency Road</td>\n",
       "      <td>4.3</td>\n",
       "    </tr>\n",
       "    <tr>\n",
       "      <th>4</th>\n",
       "      <td>Yes</td>\n",
       "      <td>No</td>\n",
       "      <td>129</td>\n",
       "      <td>Koramangala 8th Block</td>\n",
       "      <td>Beverage Shop</td>\n",
       "      <td>NaN</td>\n",
       "      <td>Juices, Fast Food</td>\n",
       "      <td>150</td>\n",
       "      <td>Delivery</td>\n",
       "      <td>Koramangala 6th Block</td>\n",
       "      <td>3.7</td>\n",
       "    </tr>\n",
       "  </tbody>\n",
       "</table>\n",
       "</div>"
      ],
      "text/plain": [
       "  online_order book_table  votes               location           rest_type  \\\n",
       "0          Yes         No     13          Richmond Road         Quick Bites   \n",
       "1           No        Yes   5015  Koramangala 5th Block  Casual Dining, Pub   \n",
       "2           No         No      6                    BTM         Quick Bites   \n",
       "3           No         No    699           Lavelle Road       Casual Dining   \n",
       "4          Yes         No    129  Koramangala 8th Block       Beverage Shop   \n",
       "\n",
       "                                          dish_liked  \\\n",
       "0                                                NaN   \n",
       "1  Cocktails, Craft Beer, Salads, Devils Chicken,...   \n",
       "2                                                NaN   \n",
       "3  Noodles, Laksa, Cocktails, Dumplings, Sangria,...   \n",
       "4                                                NaN   \n",
       "\n",
       "                                  cuisines avg_cost meal_type  \\\n",
       "0      North Indian, South Indian, Arabian      350  Delivery   \n",
       "1                    European, Continental     1800  Dine-out   \n",
       "2                                   Kerala      250  Dine-out   \n",
       "3  Thai, Chinese, Indonesian, Asian, Momos     1500  Dine-out   \n",
       "4                        Juices, Fast Food      150  Delivery   \n",
       "\n",
       "                    city rates  \n",
       "0         Residency Road   3.1  \n",
       "1  Koramangala 6th Block   4.6  \n",
       "2  Koramangala 4th Block   3.4  \n",
       "3         Residency Road   4.3  \n",
       "4  Koramangala 6th Block   3.7  "
      ]
     },
     "execution_count": 20,
     "metadata": {},
     "output_type": "execute_result"
    }
   ],
   "source": [
    "df=df.rename(columns={\"approx_cost(for two people)\" : \"avg_cost\",\n",
    "                      \"listed_in(type)\" : \"meal_type\", \n",
    "                      \"listed_in(city)\" : \"city\"})\n",
    "df.head()"
   ]
  },
  {
   "cell_type": "markdown",
   "metadata": {
    "id": "fXgFIBMJDr00"
   },
   "source": [
    "## Remove Null values from 'Rates' and \"avg_cost\" columns"
   ]
  },
  {
   "cell_type": "code",
   "execution_count": 21,
   "metadata": {
    "id": "aG8XO2qNDr00"
   },
   "outputs": [],
   "source": [
    "df.dropna(subset=['rates','avg_cost','rest_type'],inplace=True)"
   ]
  },
  {
   "cell_type": "code",
   "execution_count": 22,
   "metadata": {
    "id": "IPx2ClJ-Dr00"
   },
   "outputs": [],
   "source": [
    "df['avg_cost']=df['avg_cost'].astype(int)"
   ]
  },
  {
   "cell_type": "code",
   "execution_count": 23,
   "metadata": {
    "id": "-2aXLsXrDr00",
    "outputId": "be64ac5a-3d02-4e81-aec9-c2cf237e61f6"
   },
   "outputs": [
    {
     "data": {
      "text/plain": [
       "(40655, 11)"
      ]
     },
     "execution_count": 23,
     "metadata": {},
     "output_type": "execute_result"
    }
   ],
   "source": [
    "df.shape"
   ]
  },
  {
   "cell_type": "markdown",
   "metadata": {
    "id": "_1TLCmC2Dr00"
   },
   "source": [
    "### Check null values in columns"
   ]
  },
  {
   "cell_type": "code",
   "execution_count": 24,
   "metadata": {
    "id": "1ecT_nMHDr00",
    "outputId": "f783ef95-c256-4f41-96e3-c8d5ad5ccb10"
   },
   "outputs": [
    {
     "data": {
      "text/plain": [
       "online_order        0\n",
       "book_table          0\n",
       "votes               0\n",
       "location            0\n",
       "rest_type           0\n",
       "dish_liked      21945\n",
       "cuisines           14\n",
       "avg_cost            0\n",
       "meal_type           0\n",
       "city                0\n",
       "rates            7683\n",
       "dtype: int64"
      ]
     },
     "execution_count": 24,
     "metadata": {},
     "output_type": "execute_result"
    }
   ],
   "source": [
    "df['rates']=df['rates'].astype(float)\n",
    "df.isna().sum()"
   ]
  },
  {
   "cell_type": "markdown",
   "metadata": {
    "id": "z_m31wIqDr00"
   },
   "source": [
    "### See we have no null values in 'rates' and 'avg_cost' now\n",
    "### Only 'rest_type', 'cuisines' and 'dish_liked' columns have a null values\n",
    "\n",
    "### Remove 'cuisine' null values"
   ]
  },
  {
   "cell_type": "code",
   "execution_count": 25,
   "metadata": {
    "id": "P91orSt1Dr00",
    "outputId": "7c9ee1c5-1c1f-4b7c-c02a-3f572356a379"
   },
   "outputs": [
    {
     "name": "stdout",
     "output_type": "stream",
     "text": [
      "<class 'pandas.core.frame.DataFrame'>\n",
      "Int64Index: 40655 entries, 0 to 41372\n",
      "Data columns (total 11 columns):\n",
      " #   Column        Non-Null Count  Dtype  \n",
      "---  ------        --------------  -----  \n",
      " 0   online_order  40655 non-null  object \n",
      " 1   book_table    40655 non-null  object \n",
      " 2   votes         40655 non-null  int32  \n",
      " 3   location      40655 non-null  object \n",
      " 4   rest_type     40655 non-null  object \n",
      " 5   dish_liked    18710 non-null  object \n",
      " 6   cuisines      40641 non-null  object \n",
      " 7   avg_cost      40655 non-null  int32  \n",
      " 8   meal_type     40655 non-null  object \n",
      " 9   city          40655 non-null  object \n",
      " 10  rates         32972 non-null  float64\n",
      "dtypes: float64(1), int32(2), object(8)\n",
      "memory usage: 3.4+ MB\n"
     ]
    }
   ],
   "source": [
    "df.info()"
   ]
  },
  {
   "cell_type": "code",
   "execution_count": 26,
   "metadata": {
    "id": "ojakz5TqDr00",
    "outputId": "7c7b1609-10cb-4766-f686-65d41d5e28c3"
   },
   "outputs": [
    {
     "data": {
      "text/plain": [
       "online_order        0\n",
       "book_table          0\n",
       "votes               0\n",
       "location            0\n",
       "rest_type           0\n",
       "dish_liked      21931\n",
       "cuisines            0\n",
       "avg_cost            0\n",
       "meal_type           0\n",
       "city                0\n",
       "rates            7674\n",
       "dtype: int64"
      ]
     },
     "execution_count": 26,
     "metadata": {},
     "output_type": "execute_result"
    }
   ],
   "source": [
    "df=df[df.cuisines.isna()==False]\n",
    "df=df[df.rest_type.isna()==False]\n",
    "df.isna().sum()"
   ]
  },
  {
   "cell_type": "markdown",
   "metadata": {
    "id": "d1XypoVlDr00"
   },
   "source": [
    "### See no Null value in 'cuisines'column now"
   ]
  },
  {
   "cell_type": "code",
   "execution_count": 27,
   "metadata": {
    "id": "vYGxLvJyDr00",
    "outputId": "fbd0cc1c-962e-4af2-d651-01e888ddc7ad"
   },
   "outputs": [
    {
     "data": {
      "text/plain": [
       "array(['Richmond Road', 'Koramangala 5th Block', 'BTM', 'Lavelle Road',\n",
       "       'Koramangala 8th Block', 'Shanti Nagar', 'Marathahalli',\n",
       "       'Koramangala 7th Block', 'Bannerghatta Road', 'Brigade Road',\n",
       "       'Thippasandra', 'Majestic', 'Whitefield', 'Bellandur', 'Ulsoor',\n",
       "       'Koramangala 6th Block', 'HSR', 'Domlur', 'JP Nagar', 'Hennur',\n",
       "       'Jayanagar', 'Malleshwaram', 'Frazer Town', 'New BEL Road',\n",
       "       'Old Airport Road', 'Kalyan Nagar', 'Church Street',\n",
       "       'Commercial Street', 'Koramangala 4th Block', 'Bommanahalli',\n",
       "       'Residency Road', 'Indiranagar', 'Banaswadi', 'Banashankari',\n",
       "       'MG Road', 'Sadashiv Nagar', 'Kaggadasapura', 'Brookefield',\n",
       "       'Nagawara', 'Cunningham Road', 'Sarjapur Road', 'Kammanahalli',\n",
       "       'HBR Layout', 'Electronic City', 'Basavanagudi', 'Hosur Road',\n",
       "       'Vijay Nagar', 'Rajajinagar', 'Koramangala',\n",
       "       'Koramangala 1st Block', 'CV Raman Nagar', 'RT Nagar',\n",
       "       'Kumaraswamy Layout', 'Vasanth Nagar', 'St. Marks Road',\n",
       "       'City Market', 'Ejipura', 'Sahakara Nagar', 'Shivajinagar',\n",
       "       'South Bangalore', 'East Bangalore',\n",
       "       'Varthur Main Road, Whitefield', 'Wilson Garden', 'Seshadripuram',\n",
       "       'ITPL Main Road, Whitefield', 'Koramangala 3rd Block',\n",
       "       'Old Madras Road', 'Basaveshwara Nagar', 'KR Puram', 'Yeshwantpur',\n",
       "       'Jeevan Bhima Nagar', 'Koramangala 2nd Block', 'Rammurthy Nagar',\n",
       "       'Race Course Road', 'Jalahalli', 'Mysore Road', 'North Bangalore',\n",
       "       'Sanjay Nagar', 'Infantry Road', 'Kanakapura Road', 'Magadi Road',\n",
       "       'Sankey Road', 'Uttarahalli', 'Langford Town', 'Central Bangalore',\n",
       "       'Hebbal', 'Kengeri', 'Nagarbhavi', 'West Bangalore', 'Yelahanka',\n",
       "       'Jakkur', 'Rajarajeshwari Nagar', 'Peenya'], dtype=object)"
      ]
     },
     "execution_count": 27,
     "metadata": {},
     "output_type": "execute_result"
    }
   ],
   "source": [
    "df['location'].unique()"
   ]
  },
  {
   "cell_type": "code",
   "execution_count": 28,
   "metadata": {
    "id": "SGi3mL6bDr00",
    "outputId": "e9374528-d44b-4651-8bfb-25a2d4167606"
   },
   "outputs": [
    {
     "data": {
      "text/plain": [
       "array(['Residency Road', 'Koramangala 6th Block', 'Koramangala 4th Block',\n",
       "       'BTM', 'Sarjapur Road', 'Bannerghatta Road', 'MG Road',\n",
       "       'Indiranagar', 'Lavelle Road', 'Whitefield',\n",
       "       'Koramangala 7th Block', 'Bellandur', 'Brigade Road', 'Jayanagar',\n",
       "       'HSR', 'Old Airport Road', 'JP Nagar', 'Kammanahalli',\n",
       "       'Rajajinagar', 'New BEL Road', 'Basavanagudi', 'Frazer Town',\n",
       "       'Church Street', 'Kalyan Nagar', 'Malleshwaram', 'Marathahalli',\n",
       "       'Brookefield', 'Banashankari', 'Koramangala 5th Block',\n",
       "       'Electronic City'], dtype=object)"
      ]
     },
     "execution_count": 28,
     "metadata": {},
     "output_type": "execute_result"
    }
   ],
   "source": [
    "df['city'].unique()"
   ]
  },
  {
   "cell_type": "markdown",
   "metadata": {
    "id": "rDivQf2vDr00"
   },
   "source": [
    "### As you see 'Location' columns has more sublocations\n",
    "### and 'city' columns have a better Locations so we drop 'Location' column"
   ]
  },
  {
   "cell_type": "code",
   "execution_count": 29,
   "metadata": {
    "id": "qCmPg_Q9Dr00",
    "outputId": "cb02273c-d085-45bf-b7b0-2bfb1dba6a66"
   },
   "outputs": [
    {
     "data": {
      "text/html": [
       "<div>\n",
       "<style scoped>\n",
       "    .dataframe tbody tr th:only-of-type {\n",
       "        vertical-align: middle;\n",
       "    }\n",
       "\n",
       "    .dataframe tbody tr th {\n",
       "        vertical-align: top;\n",
       "    }\n",
       "\n",
       "    .dataframe thead th {\n",
       "        text-align: right;\n",
       "    }\n",
       "</style>\n",
       "<table border=\"1\" class=\"dataframe\">\n",
       "  <thead>\n",
       "    <tr style=\"text-align: right;\">\n",
       "      <th></th>\n",
       "      <th>online_order</th>\n",
       "      <th>book_table</th>\n",
       "      <th>votes</th>\n",
       "      <th>rest_type</th>\n",
       "      <th>dish_liked</th>\n",
       "      <th>cuisines</th>\n",
       "      <th>avg_cost</th>\n",
       "      <th>meal_type</th>\n",
       "      <th>city</th>\n",
       "      <th>rates</th>\n",
       "    </tr>\n",
       "  </thead>\n",
       "  <tbody>\n",
       "    <tr>\n",
       "      <th>0</th>\n",
       "      <td>Yes</td>\n",
       "      <td>No</td>\n",
       "      <td>13</td>\n",
       "      <td>Quick Bites</td>\n",
       "      <td>NaN</td>\n",
       "      <td>North Indian, South Indian, Arabian</td>\n",
       "      <td>350</td>\n",
       "      <td>Delivery</td>\n",
       "      <td>Residency Road</td>\n",
       "      <td>3.1</td>\n",
       "    </tr>\n",
       "    <tr>\n",
       "      <th>1</th>\n",
       "      <td>No</td>\n",
       "      <td>Yes</td>\n",
       "      <td>5015</td>\n",
       "      <td>Casual Dining, Pub</td>\n",
       "      <td>Cocktails, Craft Beer, Salads, Devils Chicken,...</td>\n",
       "      <td>European, Continental</td>\n",
       "      <td>1800</td>\n",
       "      <td>Dine-out</td>\n",
       "      <td>Koramangala 6th Block</td>\n",
       "      <td>4.6</td>\n",
       "    </tr>\n",
       "    <tr>\n",
       "      <th>2</th>\n",
       "      <td>No</td>\n",
       "      <td>No</td>\n",
       "      <td>6</td>\n",
       "      <td>Quick Bites</td>\n",
       "      <td>NaN</td>\n",
       "      <td>Kerala</td>\n",
       "      <td>250</td>\n",
       "      <td>Dine-out</td>\n",
       "      <td>Koramangala 4th Block</td>\n",
       "      <td>3.4</td>\n",
       "    </tr>\n",
       "    <tr>\n",
       "      <th>3</th>\n",
       "      <td>No</td>\n",
       "      <td>No</td>\n",
       "      <td>699</td>\n",
       "      <td>Casual Dining</td>\n",
       "      <td>Noodles, Laksa, Cocktails, Dumplings, Sangria,...</td>\n",
       "      <td>Thai, Chinese, Indonesian, Asian, Momos</td>\n",
       "      <td>1500</td>\n",
       "      <td>Dine-out</td>\n",
       "      <td>Residency Road</td>\n",
       "      <td>4.3</td>\n",
       "    </tr>\n",
       "    <tr>\n",
       "      <th>4</th>\n",
       "      <td>Yes</td>\n",
       "      <td>No</td>\n",
       "      <td>129</td>\n",
       "      <td>Beverage Shop</td>\n",
       "      <td>NaN</td>\n",
       "      <td>Juices, Fast Food</td>\n",
       "      <td>150</td>\n",
       "      <td>Delivery</td>\n",
       "      <td>Koramangala 6th Block</td>\n",
       "      <td>3.7</td>\n",
       "    </tr>\n",
       "  </tbody>\n",
       "</table>\n",
       "</div>"
      ],
      "text/plain": [
       "  online_order book_table  votes           rest_type  \\\n",
       "0          Yes         No     13         Quick Bites   \n",
       "1           No        Yes   5015  Casual Dining, Pub   \n",
       "2           No         No      6         Quick Bites   \n",
       "3           No         No    699       Casual Dining   \n",
       "4          Yes         No    129       Beverage Shop   \n",
       "\n",
       "                                          dish_liked  \\\n",
       "0                                                NaN   \n",
       "1  Cocktails, Craft Beer, Salads, Devils Chicken,...   \n",
       "2                                                NaN   \n",
       "3  Noodles, Laksa, Cocktails, Dumplings, Sangria,...   \n",
       "4                                                NaN   \n",
       "\n",
       "                                  cuisines  avg_cost meal_type  \\\n",
       "0      North Indian, South Indian, Arabian       350  Delivery   \n",
       "1                    European, Continental      1800  Dine-out   \n",
       "2                                   Kerala       250  Dine-out   \n",
       "3  Thai, Chinese, Indonesian, Asian, Momos      1500  Dine-out   \n",
       "4                        Juices, Fast Food       150  Delivery   \n",
       "\n",
       "                    city  rates  \n",
       "0         Residency Road    3.1  \n",
       "1  Koramangala 6th Block    4.6  \n",
       "2  Koramangala 4th Block    3.4  \n",
       "3         Residency Road    4.3  \n",
       "4  Koramangala 6th Block    3.7  "
      ]
     },
     "execution_count": 29,
     "metadata": {},
     "output_type": "execute_result"
    }
   ],
   "source": [
    "del df['location']\n",
    "df.head()"
   ]
  },
  {
   "cell_type": "markdown",
   "metadata": {
    "id": "Dju6y5FODr00"
   },
   "source": [
    "---\n",
    "# **4. Data Visualization**"
   ]
  },
  {
   "cell_type": "markdown",
   "metadata": {
    "id": "e0qmpNU0Dr00"
   },
   "source": [
    "## 4.1 Number of restaurtants that take online order"
   ]
  },
  {
   "cell_type": "code",
   "execution_count": 30,
   "metadata": {
    "id": "lHGvtmQsDr00",
    "outputId": "c54c1077-80d1-4f42-fce3-fc6e2c210abf"
   },
   "outputs": [
    {
     "data": {
      "image/png": "[encoded data removed]",
      "text/plain": [
       "<Figure size 720x720 with 1 Axes>"
      ]
     },
     "metadata": {
      "needs_background": "light"
     },
     "output_type": "display_data"
    }
   ],
   "source": [
    "plt.figure(figsize=(10,10))\n",
    "\n",
    "sns.countplot(df['online_order'])\n",
    "plt.title(\"number of restaurtants that take online_order\",fontsize=25,color='blue')\n",
    "plt.ylabel(\"Count\",fontsize=20)\n",
    "plt.xlabel(\"Online order\",fontsize=20)\n",
    "plt.show()"
   ]
  },
  {
   "cell_type": "markdown",
   "metadata": {
    "id": "123Q9MCqDr00"
   },
   "source": [
    "---\n",
    "## 4.2 number of restaurants that have the option to book table"
   ]
  },
  {
   "cell_type": "code",
   "execution_count": 31,
   "metadata": {
    "id": "bwgzb06uDr00",
    "outputId": "a92d7e0c-69d5-4bba-d1b4-3a1ea0fa77f8"
   },
   "outputs": [
    {
     "data": {
      "image/png": "[encoded data removed]",
      "text/plain": [
       "<Figure size 720x720 with 1 Axes>"
      ]
     },
     "metadata": {
      "needs_background": "light"
     },
     "output_type": "display_data"
    }
   ],
   "source": [
    "plt.figure(figsize=(10,10))\n",
    "\n",
    "sns.countplot(df['book_table'])\n",
    "plt.title(\"Number of restaurants that have the option to book table\",fontsize=25,color='purple')\n",
    "plt.ylabel(\"Count\",fontsize=20)\n",
    "plt.xlabel(\"Book Table\",fontsize=20)\n",
    "plt.show()"
   ]
  },
  {
   "cell_type": "markdown",
   "metadata": {
    "id": "9Hj4BtraDr00"
   },
   "source": [
    "---\n",
    "## 4.3 Number of restaurants with meal type"
   ]
  },
  {
   "cell_type": "code",
   "execution_count": 32,
   "metadata": {
    "id": "_KclLpIeDr00",
    "outputId": "c3d57594-6dad-40c3-ad72-e025824ac4ee"
   },
   "outputs": [
    {
     "data": {
      "image/png": "[encoded data removed]",
      "text/plain": [
       "<Figure size 720x720 with 1 Axes>"
      ]
     },
     "metadata": {},
     "output_type": "display_data"
    }
   ],
   "source": [
    "plt.figure(figsize=(10,10))\n",
    "ax =df.meal_type.value_counts()\n",
    "labels=df['meal_type'].value_counts().index\n",
    "plt.pie(ax,labels=labels,autopct='%.2f')\n",
    "plt.title(\"Number of restaurants according to meal type\",fontsize=25,color='purple')\n",
    "plt.legend()\n",
    "plt.show()"
   ]
  },
  {
   "cell_type": "markdown",
   "metadata": {
    "id": "SWChXv5rDr01"
   },
   "source": [
    "---\n",
    "## 4.4 number of restaurants in each area of banglore"
   ]
  },
  {
   "cell_type": "code",
   "execution_count": 91,
   "metadata": {
    "id": "2R1tmHw6Dr01",
    "outputId": "77381016-8771-4a1c-e163-5b5b42587403"
   },
   "outputs": [
    {
     "data": {
      "image/png": "[encoded data removed]",
      "text/plain": [
       "<Figure size 864x864 with 1 Axes>"
      ]
     },
     "metadata": {},
     "output_type": "display_data"
    }
   ],
   "source": [
    "plt.figure(figsize=(12,12))\n",
    "\n",
    "ax=df.city.value_counts()\n",
    "ax.plot(kind='pie',fontsize=20)\n",
    "\n",
    "plt.title('number of restaurants in each area of banglore',fontsize=30,color='darkblue')\n",
    "plt.show()"
   ]
  },
  {
   "cell_type": "code",
   "execution_count": 90,
   "metadata": {
    "id": "pO3Is3RNDr01",
    "outputId": "32804ed6-03ad-4a8c-fa7e-889b498acc9e"
   },
   "outputs": [
    {
     "data": {
      "image/png": "[encoded data removed]",
      "text/plain": [
       "<Figure size 864x864 with 1 Axes>"
      ]
     },
     "metadata": {},
     "output_type": "display_data"
    }
   ],
   "source": [
    "plt.figure(figsize=(12,12))\n",
    "\n",
    "ax=df.city.value_counts()[:10]\n",
    "labels=df['city'].value_counts()[:10].index\n",
    "plt.pie(ax,labels=labels,autopct='%.2f')\n",
    "plt.title('number of restaurants in each area of banglore',fontsize=40,color='darkblue')\n",
    "plt.show()"
   ]
  },
  {
   "cell_type": "markdown",
   "metadata": {
    "id": "jp6E9KOWDr01"
   },
   "source": [
    "###  Wee BTM location have most of restaurants\n",
    "### TOP 10 location restaurants"
   ]
  },
  {
   "cell_type": "code",
   "execution_count": 35,
   "metadata": {
    "id": "wRFP_z0ADr01",
    "outputId": "35576614-e823-48d0-87c4-61c7b2116ea1"
   },
   "outputs": [
    {
     "data": {
      "text/plain": [
       "<matplotlib.axes._subplots.AxesSubplot at 0x161f4a2eee0>"
      ]
     },
     "execution_count": 35,
     "metadata": {},
     "output_type": "execute_result"
    },
    {
     "data": {
      "image/png": "[encoded data removed]",
      "text/plain": [
       "<Figure size 720x720 with 1 Axes>"
      ]
     },
     "metadata": {
      "needs_background": "light"
     },
     "output_type": "display_data"
    }
   ],
   "source": [
    "plt.figure(figsize=(10,10))\n",
    "ax=df.city.value_counts()[:10]\n",
    "ax.plot(kind='bar')"
   ]
  },
  {
   "cell_type": "markdown",
   "metadata": {
    "id": "Bx-KtNmSDr01"
   },
   "source": [
    "---\n",
    "## 4.5 Type of Restaurant in City"
   ]
  },
  {
   "cell_type": "code",
   "execution_count": 36,
   "metadata": {
    "id": "6MsyE0KYDr01",
    "outputId": "a8f91014-510b-4fcb-fa2c-52b60cde5124"
   },
   "outputs": [
    {
     "data": {
      "image/png": "[encoded data removed]",
      "text/plain": [
       "<Figure size 720x720 with 1 Axes>"
      ]
     },
     "metadata": {},
     "output_type": "display_data"
    }
   ],
   "source": [
    "plt.figure(figsize=(10,10))\n",
    "\n",
    "ax=df.rest_type.value_counts()[:10]\n",
    "label=df['rest_type'].value_counts()[:10].index\n",
    "ax.plot(kind='pie',labels=label,autopct='%.2f')\n",
    "\n",
    "plt.title(\"Type of Restaurant in City\",fontsize=20,color='darkgreen')\n",
    "plt.show()"
   ]
  },
  {
   "cell_type": "markdown",
   "metadata": {
    "id": "Uaf4Oz9zDr01"
   },
   "source": [
    "---\n",
    "## 4.6 Number of Type of Restaurant in City"
   ]
  },
  {
   "cell_type": "code",
   "execution_count": 37,
   "metadata": {
    "id": "OKuXP4FODr01",
    "outputId": "2e678e99-3ecc-47ae-caa4-46e5dff833c7"
   },
   "outputs": [
    {
     "data": {
      "image/png": "[encoded data removed]",
      "text/plain": [
       "<Figure size 720x720 with 1 Axes>"
      ]
     },
     "metadata": {
      "needs_background": "light"
     },
     "output_type": "display_data"
    }
   ],
   "source": [
    "plt.figure(figsize=(10,10))\n",
    "\n",
    "ax=df.rest_type.value_counts()[:10]\n",
    "ax.plot(kind='bar')\n",
    "\n",
    "plt.title(\"Number of Type of Restaurant in City\",fontsize=25)\n",
    "plt.xlabel(\"Type of Restaurants\",fontsize=15)\n",
    "plt.show()"
   ]
  },
  {
   "cell_type": "markdown",
   "metadata": {
    "id": "jvaqC5fUDr01"
   },
   "source": [
    "---\n",
    "## 4.7 Average cost for two person"
   ]
  },
  {
   "cell_type": "code",
   "execution_count": 38,
   "metadata": {
    "id": "V3YDqAo4Dr01",
    "outputId": "2f29599c-d512-4586-eeed-918570d3c535"
   },
   "outputs": [
    {
     "data": {
      "image/png": "[encoded data removed]",
      "text/plain": [
       "<Figure size 720x720 with 1 Axes>"
      ]
     },
     "metadata": {},
     "output_type": "display_data"
    }
   ],
   "source": [
    "plt.figure(figsize=(10,10))\n",
    "\n",
    "ax=df.avg_cost.value_counts()[:10]\n",
    "label=df['avg_cost'].value_counts()[:10].index\n",
    "\n",
    "plt.pie(ax,labels=label,autopct='%.2f')\n",
    "\n",
    "plt.title(\"'Average cost for two person\",fontsize=25)\n",
    "plt.show()"
   ]
  },
  {
   "cell_type": "markdown",
   "metadata": {
    "id": "TTxpouj9Dr01"
   },
   "source": [
    "---\n",
    "## 4.8 Top 10 dished_liked in Bangalore"
   ]
  },
  {
   "cell_type": "code",
   "execution_count": 39,
   "metadata": {
    "id": "KuPPXSUxDr01",
    "outputId": "3ce9824a-f165-4e27-e2b1-8b09fd5f86c7"
   },
   "outputs": [
    {
     "data": {
      "image/png": "[encoded data removed]",
      "text/plain": [
       "<Figure size 720x720 with 1 Axes>"
      ]
     },
     "metadata": {
      "needs_background": "light"
     },
     "output_type": "display_data"
    }
   ],
   "source": [
    "plt.figure(figsize=(10,10))\n",
    "ax=df['dish_liked'].value_counts()[:10]\n",
    "ax.plot(kind='bar')\n",
    "plt.title(\"Top 10 dished_liked in Bangalore\",fontsize=25,color='purple')\n",
    "plt.show()"
   ]
  },
  {
   "cell_type": "code",
   "execution_count": 40,
   "metadata": {
    "id": "9fYcBjBXDr01",
    "outputId": "240fda86-ad80-4349-f70c-af56427cd50c"
   },
   "outputs": [
    {
     "name": "stdout",
     "output_type": "stream",
     "text": [
      "<class 'pandas.core.frame.DataFrame'>\n",
      "Int64Index: 40641 entries, 0 to 41372\n",
      "Data columns (total 10 columns):\n",
      " #   Column        Non-Null Count  Dtype  \n",
      "---  ------        --------------  -----  \n",
      " 0   online_order  40641 non-null  object \n",
      " 1   book_table    40641 non-null  object \n",
      " 2   votes         40641 non-null  int32  \n",
      " 3   rest_type     40641 non-null  object \n",
      " 4   dish_liked    18710 non-null  object \n",
      " 5   cuisines      40641 non-null  object \n",
      " 6   avg_cost      40641 non-null  int32  \n",
      " 7   meal_type     40641 non-null  object \n",
      " 8   city          40641 non-null  object \n",
      " 9   rates         32967 non-null  float64\n",
      "dtypes: float64(1), int32(2), object(7)\n",
      "memory usage: 4.4+ MB\n"
     ]
    }
   ],
   "source": [
    "df['rates']=df['rates'].astype(float)\n",
    "df.info()"
   ]
  },
  {
   "cell_type": "code",
   "execution_count": 41,
   "metadata": {
    "id": "ADudR94DDr01",
    "outputId": "591142b3-6ddd-454f-bfc1-94fefa97ef66"
   },
   "outputs": [
    {
     "data": {
      "image/png": "[encoded data removed]",
      "text/plain": [
       "<Figure size 720x720 with 1 Axes>"
      ]
     },
     "metadata": {},
     "output_type": "display_data"
    }
   ],
   "source": [
    "plt.figure(figsize=(10,10))\n",
    "ax=df.dish_liked.value_counts()[:10]\n",
    "label=df['dish_liked'].value_counts()[:10].index\n",
    "\n",
    "plt.pie(ax,labels=label,autopct='%.2f')\n",
    "\n",
    "plt.title(\"Top 10 dished_liked in Bangalore\",fontsize=15)\n",
    "plt.show()"
   ]
  },
  {
   "cell_type": "markdown",
   "metadata": {
    "id": "dLqdExB6Dr01"
   },
   "source": [
    "### We can see that Biryani is most favorite in bangalore"
   ]
  },
  {
   "cell_type": "markdown",
   "metadata": {
    "id": "3-gxrKu8Dr01"
   },
   "source": [
    "---\n",
    "## 4.9 Top 10 Cuisine"
   ]
  },
  {
   "cell_type": "code",
   "execution_count": 42,
   "metadata": {
    "id": "n66tr7RXDr01",
    "outputId": "a1e901a9-f424-4cb7-bbb1-86fd9fb78221"
   },
   "outputs": [
    {
     "data": {
      "image/png": "[encoded data removed]",
      "text/plain": [
       "<Figure size 720x720 with 1 Axes>"
      ]
     },
     "metadata": {
      "needs_background": "light"
     },
     "output_type": "display_data"
    }
   ],
   "source": [
    "plt.figure(figsize=(10,10))\n",
    "\n",
    "ax=df.cuisines.value_counts()[:10]\n",
    "ax.plot(kind='bar')\n",
    "\n",
    "plt.title(\"Top 10 Cuisine\",fontsize=20)\n",
    "plt.xticks(fontsize=20)\n",
    "plt.show()"
   ]
  },
  {
   "cell_type": "markdown",
   "metadata": {
    "id": "nl8WX4DBDr01"
   },
   "source": [
    "---\n",
    "## Rate VS Online Order"
   ]
  },
  {
   "cell_type": "code",
   "execution_count": 89,
   "metadata": {
    "id": "VDq8JoyODr01",
    "outputId": "3c5632a7-ea18-42a9-b65f-a88e3ab2d4be"
   },
   "outputs": [
    {
     "data": {
      "image/png": "[encoded data removed]",
      "text/plain": [
       "<Figure size 720x720 with 1 Axes>"
      ]
     },
     "metadata": {
      "needs_background": "light"
     },
     "output_type": "display_data"
    }
   ],
   "source": [
    "plt.figure(figsize=(10,10))\n",
    "\n",
    "sns.countplot(x=df['rates'],hue=df['online_order'])\n",
    "plt.title(\"Rate VS Online order\",fontsize=25)\n",
    "plt.ylabel(\"Restaurants that Accept/Not Accepting online orders\",fontsize=20)\n",
    "plt.xlabel(\"rate\",fontsize=20)\n",
    "plt.show()"
   ]
  },
  {
   "cell_type": "markdown",
   "metadata": {
    "id": "5cU35X2nDr02"
   },
   "source": [
    "---\n",
    "# 5. Data Preprocessing"
   ]
  },
  {
   "cell_type": "markdown",
   "metadata": {
    "id": "RQsnLk7SDr02"
   },
   "source": [
    "## 5.1 Data transformation\n",
    "### lets Convert categorical data into numerical data using LabelEncoding"
   ]
  },
  {
   "cell_type": "markdown",
   "metadata": {
    "id": "96jltaSODr02"
   },
   "source": [
    "### Now we drop unwanted Columns"
   ]
  },
  {
   "cell_type": "code",
   "execution_count": 44,
   "metadata": {
    "id": "4RbdV8fzDr02"
   },
   "outputs": [],
   "source": [
    "df=df.drop(['dish_liked','meal_type'],axis=1)"
   ]
  },
  {
   "cell_type": "code",
   "execution_count": 45,
   "metadata": {
    "id": "KZIAwdvVDr02"
   },
   "outputs": [],
   "source": [
    "from sklearn.preprocessing import LabelEncoder\n",
    "le=LabelEncoder()"
   ]
  },
  {
   "cell_type": "code",
   "execution_count": 46,
   "metadata": {
    "id": "-aNmsQ7KDr02",
    "outputId": "f7d0c70e-e0d9-4cdd-cf82-9a333ba73a49"
   },
   "outputs": [
    {
     "data": {
      "text/html": [
       "<div>\n",
       "<style scoped>\n",
       "    .dataframe tbody tr th:only-of-type {\n",
       "        vertical-align: middle;\n",
       "    }\n",
       "\n",
       "    .dataframe tbody tr th {\n",
       "        vertical-align: top;\n",
       "    }\n",
       "\n",
       "    .dataframe thead th {\n",
       "        text-align: right;\n",
       "    }\n",
       "</style>\n",
       "<table border=\"1\" class=\"dataframe\">\n",
       "  <thead>\n",
       "    <tr style=\"text-align: right;\">\n",
       "      <th></th>\n",
       "      <th>online_order</th>\n",
       "      <th>book_table</th>\n",
       "      <th>votes</th>\n",
       "      <th>rest_type</th>\n",
       "      <th>cuisines</th>\n",
       "      <th>avg_cost</th>\n",
       "      <th>city</th>\n",
       "      <th>rates</th>\n",
       "    </tr>\n",
       "  </thead>\n",
       "  <tbody>\n",
       "    <tr>\n",
       "      <th>0</th>\n",
       "      <td>1</td>\n",
       "      <td>0</td>\n",
       "      <td>13</td>\n",
       "      <td>78</td>\n",
       "      <td>2148</td>\n",
       "      <td>350</td>\n",
       "      <td>27</td>\n",
       "      <td>3.1</td>\n",
       "    </tr>\n",
       "    <tr>\n",
       "      <th>1</th>\n",
       "      <td>0</td>\n",
       "      <td>1</td>\n",
       "      <td>5015</td>\n",
       "      <td>33</td>\n",
       "      <td>1204</td>\n",
       "      <td>1800</td>\n",
       "      <td>18</td>\n",
       "      <td>4.6</td>\n",
       "    </tr>\n",
       "    <tr>\n",
       "      <th>2</th>\n",
       "      <td>0</td>\n",
       "      <td>0</td>\n",
       "      <td>6</td>\n",
       "      <td>78</td>\n",
       "      <td>1574</td>\n",
       "      <td>250</td>\n",
       "      <td>16</td>\n",
       "      <td>3.4</td>\n",
       "    </tr>\n",
       "    <tr>\n",
       "      <th>3</th>\n",
       "      <td>0</td>\n",
       "      <td>0</td>\n",
       "      <td>699</td>\n",
       "      <td>27</td>\n",
       "      <td>2608</td>\n",
       "      <td>1500</td>\n",
       "      <td>27</td>\n",
       "      <td>4.3</td>\n",
       "    </tr>\n",
       "    <tr>\n",
       "      <th>4</th>\n",
       "      <td>1</td>\n",
       "      <td>0</td>\n",
       "      <td>129</td>\n",
       "      <td>14</td>\n",
       "      <td>1546</td>\n",
       "      <td>150</td>\n",
       "      <td>18</td>\n",
       "      <td>3.7</td>\n",
       "    </tr>\n",
       "  </tbody>\n",
       "</table>\n",
       "</div>"
      ],
      "text/plain": [
       "   online_order  book_table  votes  rest_type  cuisines  avg_cost  city  rates\n",
       "0             1           0     13         78      2148       350    27    3.1\n",
       "1             0           1   5015         33      1204      1800    18    4.6\n",
       "2             0           0      6         78      1574       250    16    3.4\n",
       "3             0           0    699         27      2608      1500    27    4.3\n",
       "4             1           0    129         14      1546       150    18    3.7"
      ]
     },
     "execution_count": 46,
     "metadata": {},
     "output_type": "execute_result"
    }
   ],
   "source": [
    "list1=['online_order','book_table','rest_type','cuisines','city']\n",
    "for i in list1:\n",
    "    df[i]=le.fit_transform(df[i])\n",
    "\n",
    "df.head()"
   ]
  },
  {
   "cell_type": "markdown",
   "metadata": {
    "id": "BCxqarVhDr02"
   },
   "source": [
    "### As you can see out data is Label Encoded"
   ]
  },
  {
   "cell_type": "markdown",
   "metadata": {
    "id": "dWPn4NBVDr02"
   },
   "source": [
    "---\n",
    "# 6. Data Transformation\n",
    "\n",
    "## 6.1 Feature Selection and Feature Scaling"
   ]
  },
  {
   "cell_type": "markdown",
   "metadata": {
    "id": "ovca4hujDr02"
   },
   "source": [
    "### Select the feature and Label(target) from the data"
   ]
  },
  {
   "cell_type": "code",
   "execution_count": 47,
   "metadata": {
    "id": "l5zcXp8HDr02",
    "outputId": "d2746799-43d0-42ec-ea98-539d1d0d139c"
   },
   "outputs": [
    {
     "data": {
      "text/plain": [
       "(40641, 8)"
      ]
     },
     "execution_count": 47,
     "metadata": {},
     "output_type": "execute_result"
    }
   ],
   "source": [
    "df.shape"
   ]
  },
  {
   "cell_type": "code",
   "execution_count": 48,
   "metadata": {
    "id": "wzL435oNDr02",
    "outputId": "f71a81da-9dc2-4fcf-e629-3814b88489b5"
   },
   "outputs": [
    {
     "data": {
      "text/plain": [
       "(32967, 8)"
      ]
     },
     "execution_count": 48,
     "metadata": {},
     "output_type": "execute_result"
    }
   ],
   "source": [
    "#Drop null values\n",
    "df.dropna(how='any',inplace=True)\n",
    "df.shape"
   ]
  },
  {
   "cell_type": "code",
   "execution_count": 49,
   "metadata": {
    "id": "wl06q8srDr02",
    "outputId": "318ed6fa-d9ac-4f23-a40b-bcd50ff6794f"
   },
   "outputs": [
    {
     "data": {
      "text/plain": [
       "(32967, 7)"
      ]
     },
     "execution_count": 49,
     "metadata": {},
     "output_type": "execute_result"
    }
   ],
   "source": [
    "# selecing features\n",
    "features=df.drop(['rates'],axis=1)\n",
    "features.shape"
   ]
  },
  {
   "cell_type": "code",
   "execution_count": 50,
   "metadata": {
    "id": "IH_kCZ3yDr02",
    "outputId": "308d69eb-874a-461e-96c4-954ed30734b8"
   },
   "outputs": [
    {
     "data": {
      "text/plain": [
       "online_order    int32\n",
       "book_table      int32\n",
       "votes           int32\n",
       "rest_type       int32\n",
       "cuisines        int32\n",
       "avg_cost        int32\n",
       "city            int32\n",
       "dtype: object"
      ]
     },
     "execution_count": 50,
     "metadata": {},
     "output_type": "execute_result"
    }
   ],
   "source": [
    "features.dtypes"
   ]
  },
  {
   "cell_type": "code",
   "execution_count": 51,
   "metadata": {
    "id": "cdcRttgFDr02",
    "outputId": "617f4bbb-fb20-4a92-9712-96e6a621d8b2"
   },
   "outputs": [
    {
     "data": {
      "text/plain": [
       "array([3.1, 4.6, 3.4, 4.3, 3.7, 3. , 3.9, 4.1, 3.6, 3.8, 3.2, 3.3, 2.9,\n",
       "       4.4, 4.2, 4. , 3.5, 2.7, 4.5, 4.7, 2.8, 2.2, 2.6, 2.5, 2.3, 4.8,\n",
       "       2.4, 4.9, 2.1, 2. , 1.8])"
      ]
     },
     "execution_count": 51,
     "metadata": {},
     "output_type": "execute_result"
    }
   ],
   "source": [
    "df['rates'].unique()"
   ]
  },
  {
   "cell_type": "code",
   "execution_count": 52,
   "metadata": {
    "id": "-P1kv3rPDr02",
    "outputId": "a862352e-a0ee-4a79-c256-cf207a20b071"
   },
   "outputs": [
    {
     "data": {
      "text/plain": [
       "array([3.1, 4.6, 3.4, ..., 3.8, 3.5, 3.3])"
      ]
     },
     "execution_count": 52,
     "metadata": {},
     "output_type": "execute_result"
    }
   ],
   "source": [
    "# selecting Class/ Label\n",
    "label=df['rates'].values\n",
    "label"
   ]
  },
  {
   "cell_type": "markdown",
   "metadata": {
    "id": "hHnBqJFKDr02"
   },
   "source": [
    "## 6.1 Feature Scaling"
   ]
  },
  {
   "cell_type": "code",
   "execution_count": 53,
   "metadata": {
    "id": "Tw7EgvLUDr02"
   },
   "outputs": [],
   "source": [
    "from sklearn.preprocessing import StandardScaler\n",
    "ss=StandardScaler()"
   ]
  },
  {
   "cell_type": "code",
   "execution_count": 54,
   "metadata": {
    "id": "OXwBn_78Dr02",
    "outputId": "6bd28ab8-6b53-4cf3-c207-b0e74e1132df"
   },
   "outputs": [
    {
     "data": {
      "text/plain": [
       "array([[ 0.72470052, -0.4231752 , -0.38294836, ...,  1.06930393,\n",
       "        -0.54324522,  1.54094152],\n",
       "       [-1.37988035,  2.36308742,  5.26183764, ..., -0.20299816,\n",
       "         2.58007341,  0.45619558],\n",
       "       [-1.37988035, -0.4231752 , -0.3908479 , ...,  0.29567957,\n",
       "        -0.7586465 ,  0.21514093],\n",
       "       ...,\n",
       "       [-1.37988035, -0.4231752 ,  2.23405658, ...,  1.51946165,\n",
       "         0.21065928,  1.54094152],\n",
       "       [ 0.72470052,  2.36308742, -0.34683618, ...,  0.59219065,\n",
       "         1.28766571,  1.17935954],\n",
       "       [-1.37988035, -0.4231752 , -0.3897194 , ...,  0.91700505,\n",
       "        -0.86634714,  0.81777756]])"
      ]
     },
     "execution_count": 54,
     "metadata": {},
     "output_type": "execute_result"
    }
   ],
   "source": [
    "features=StandardScaler().fit(features).transform(features)\n",
    "features"
   ]
  },
  {
   "cell_type": "markdown",
   "metadata": {
    "id": "pzKKvbAwDr02"
   },
   "source": [
    "---\n",
    "## 6.2 Split the data\n",
    "\n",
    "### We splited out train and test set into 90% and 10% respectively"
   ]
  },
  {
   "cell_type": "code",
   "execution_count": 55,
   "metadata": {
    "id": "IBVaGAi-Dr03"
   },
   "outputs": [],
   "source": [
    "from sklearn.model_selection import train_test_split\n",
    "X_train,X_test,y_train,y_test=train_test_split(features,label,test_size=0.10,random_state=42)"
   ]
  },
  {
   "cell_type": "code",
   "execution_count": 56,
   "metadata": {
    "id": "PueoUn10Dr03",
    "outputId": "cda68c69-d75d-44fe-a658-c30f7c7454f6"
   },
   "outputs": [
    {
     "data": {
      "text/plain": [
       "((29670, 7), (3297, 7), (29670,), (3297,))"
      ]
     },
     "execution_count": 56,
     "metadata": {},
     "output_type": "execute_result"
    }
   ],
   "source": [
    "# Check the shape of splited data\n",
    "X_train.shape,X_test.shape,y_train.shape,y_test.shape"
   ]
  },
  {
   "cell_type": "markdown",
   "metadata": {
    "id": "B8Mm3_p1Dr03"
   },
   "source": [
    "---\n",
    "## 6.3 Apply Regressions Models"
   ]
  },
  {
   "cell_type": "markdown",
   "metadata": {
    "id": "ymdB0qhTDr03"
   },
   "source": [
    "---\n",
    "## 1. Linear Regression"
   ]
  },
  {
   "cell_type": "code",
   "execution_count": 57,
   "metadata": {
    "id": "CU8D8lo3Dr03",
    "outputId": "9a15f661-27e2-4284-9e5d-8e4647adf87e"
   },
   "outputs": [
    {
     "data": {
      "text/plain": [
       "LinearRegression()"
      ]
     },
     "execution_count": 57,
     "metadata": {},
     "output_type": "execute_result"
    }
   ],
   "source": [
    "from sklearn.linear_model import LinearRegression\n",
    "lin_reg=LinearRegression()\n",
    "lin_reg"
   ]
  },
  {
   "cell_type": "markdown",
   "metadata": {
    "id": "i4AqKglADr03"
   },
   "source": [
    "### Train the model on train set"
   ]
  },
  {
   "cell_type": "code",
   "execution_count": 58,
   "metadata": {
    "id": "gF-QEF0eDr03",
    "outputId": "9471cba3-9a61-4cf4-d22e-69a7fda6b03d"
   },
   "outputs": [
    {
     "data": {
      "text/plain": [
       "LinearRegression()"
      ]
     },
     "execution_count": 58,
     "metadata": {},
     "output_type": "execute_result"
    }
   ],
   "source": [
    "lin_reg.fit(X_train,y_train)"
   ]
  },
  {
   "cell_type": "markdown",
   "metadata": {
    "id": "3ihXH1UFDr03"
   },
   "source": [
    "### Check the model socre on train and test set"
   ]
  },
  {
   "cell_type": "code",
   "execution_count": 59,
   "metadata": {
    "id": "PtzMMTJXDr03",
    "outputId": "1d6b2bf0-fae6-42b5-813f-7fc46a929f8f"
   },
   "outputs": [
    {
     "name": "stdout",
     "output_type": "stream",
     "text": [
      "0.3009735557484512\n",
      "0.27726408994361207\n"
     ]
    }
   ],
   "source": [
    "print(lin_reg.score(X_train,y_train))\n",
    "print(lin_reg.score(X_test,y_test))"
   ]
  },
  {
   "cell_type": "markdown",
   "metadata": {
    "id": "k8IyIZYQDr03"
   },
   "source": [
    "### New Predict"
   ]
  },
  {
   "cell_type": "code",
   "execution_count": 60,
   "metadata": {
    "id": "3gpVqNV2Dr03"
   },
   "outputs": [],
   "source": [
    "lin_reg_pred=lin_reg.predict(X_test)"
   ]
  },
  {
   "cell_type": "code",
   "execution_count": 61,
   "metadata": {
    "id": "QjmouUnHDr03",
    "outputId": "6c57d8d3-378c-49a3-f066-41df240e4a84"
   },
   "outputs": [
    {
     "name": "stdout",
     "output_type": "stream",
     "text": [
      "Accuracy score for LR : 27.726408994361208\n"
     ]
    }
   ],
   "source": [
    "from sklearn.metrics import r2_score\n",
    "lin_reg_score=r2_score(y_test,lin_reg_pred)*100\n",
    "print(\"Accuracy score for LR :\",lin_reg_score)"
   ]
  },
  {
   "cell_type": "code",
   "execution_count": null,
   "metadata": {
    "id": "yZsueV59Dr03"
   },
   "outputs": [],
   "source": []
  },
  {
   "cell_type": "markdown",
   "metadata": {
    "id": "WPoIN6E0Dr03"
   },
   "source": [
    "---\n",
    "## 2. Ridge Regression"
   ]
  },
  {
   "cell_type": "code",
   "execution_count": 62,
   "metadata": {
    "id": "iR5aCgWYDr03"
   },
   "outputs": [],
   "source": [
    "from sklearn.linear_model import Ridge"
   ]
  },
  {
   "cell_type": "code",
   "execution_count": 63,
   "metadata": {
    "id": "UN-9aQObDr03",
    "outputId": "8149126d-f0ea-42aa-e7ee-6fc4830d0493"
   },
   "outputs": [
    {
     "data": {
      "text/plain": [
       "Ridge()"
      ]
     },
     "execution_count": 63,
     "metadata": {},
     "output_type": "execute_result"
    }
   ],
   "source": [
    "rr=Ridge()\n",
    "rr"
   ]
  },
  {
   "cell_type": "code",
   "execution_count": 64,
   "metadata": {
    "id": "34V6iqf6Dr03",
    "outputId": "452348ca-debc-41fc-f822-8cc356cb5f2b"
   },
   "outputs": [
    {
     "data": {
      "text/plain": [
       "Ridge()"
      ]
     },
     "execution_count": 64,
     "metadata": {},
     "output_type": "execute_result"
    }
   ],
   "source": [
    "rr.fit(X_train,y_train)"
   ]
  },
  {
   "cell_type": "code",
   "execution_count": 65,
   "metadata": {
    "id": "iROsF0zyDr03",
    "outputId": "ec156285-64bc-4982-93fe-87ace0f434a6"
   },
   "outputs": [
    {
     "name": "stdout",
     "output_type": "stream",
     "text": [
      "0.3009735556166877\n",
      "0.2772650519607278\n"
     ]
    }
   ],
   "source": [
    "print(rr.score(X_train,y_train))\n",
    "print(rr.score(X_test,y_test))"
   ]
  },
  {
   "cell_type": "code",
   "execution_count": 66,
   "metadata": {
    "id": "Z38UPh6EDr03"
   },
   "outputs": [],
   "source": [
    "rr_pred=rr.predict(X_test)"
   ]
  },
  {
   "cell_type": "code",
   "execution_count": 67,
   "metadata": {
    "id": "KYnbIDbrDr03",
    "outputId": "fd971e92-0aa2-4725-ca36-cfe5a8fd0748"
   },
   "outputs": [
    {
     "name": "stdout",
     "output_type": "stream",
     "text": [
      "Accuracy score for RidgeR : 27.726505196072782\n"
     ]
    }
   ],
   "source": [
    "from sklearn.metrics import r2_score\n",
    "rr_score=r2_score(y_test,rr_pred)*100\n",
    "print(\"Accuracy score for RidgeR :\",rr_score)"
   ]
  },
  {
   "cell_type": "markdown",
   "metadata": {
    "id": "s57zOElEDr03"
   },
   "source": [
    "---\n",
    "## 3 Lasso"
   ]
  },
  {
   "cell_type": "code",
   "execution_count": 68,
   "metadata": {
    "id": "pfJpe4pLDr03"
   },
   "outputs": [],
   "source": [
    "from sklearn.linear_model import Lasso"
   ]
  },
  {
   "cell_type": "code",
   "execution_count": 69,
   "metadata": {
    "id": "9SWHzYc_Dr03",
    "outputId": "f702feba-e9dc-40df-e86d-bc567c0ee2dc"
   },
   "outputs": [
    {
     "data": {
      "text/plain": [
       "Lasso()"
      ]
     },
     "execution_count": 69,
     "metadata": {},
     "output_type": "execute_result"
    }
   ],
   "source": [
    "lr=Lasso()\n",
    "lr"
   ]
  },
  {
   "cell_type": "code",
   "execution_count": 70,
   "metadata": {
    "id": "OBXAy-diDr03",
    "outputId": "32b7b50c-ab70-4903-8daa-72eef2eecec8"
   },
   "outputs": [
    {
     "data": {
      "text/plain": [
       "Lasso()"
      ]
     },
     "execution_count": 70,
     "metadata": {},
     "output_type": "execute_result"
    }
   ],
   "source": [
    "lr.fit(X_train,y_train)"
   ]
  },
  {
   "cell_type": "code",
   "execution_count": 71,
   "metadata": {
    "id": "IurK7GvODr03",
    "outputId": "fb3a83dd-6f9c-4063-b546-6726dbca0b7f"
   },
   "outputs": [
    {
     "name": "stdout",
     "output_type": "stream",
     "text": [
      "0.0\n",
      "-0.00010692557855107587\n"
     ]
    }
   ],
   "source": [
    "print(lr.score(X_train,y_train))\n",
    "print(lr.score(X_test,y_test))"
   ]
  },
  {
   "cell_type": "code",
   "execution_count": 72,
   "metadata": {
    "id": "0y4n_MagDr04"
   },
   "outputs": [],
   "source": [
    "lr_pred=lr.predict(X_test)"
   ]
  },
  {
   "cell_type": "code",
   "execution_count": 73,
   "metadata": {
    "id": "PAOsWrKvDr04",
    "outputId": "ce7faff7-6013-48be-e016-44477ae48b4e"
   },
   "outputs": [
    {
     "name": "stdout",
     "output_type": "stream",
     "text": [
      "Accuracy score for LR : -0.010692557855107587\n"
     ]
    }
   ],
   "source": [
    "from sklearn.metrics import r2_score\n",
    "\n",
    "lr_score=r2_score(y_test,lr_pred)*100\n",
    "print(\"Accuracy score for LR :\",lr_score)"
   ]
  },
  {
   "cell_type": "code",
   "execution_count": null,
   "metadata": {
    "id": "3gcq-itTDr04"
   },
   "outputs": [],
   "source": []
  },
  {
   "cell_type": "markdown",
   "metadata": {
    "id": "UXflU6NODr04"
   },
   "source": [
    "---\n",
    "## 4. Random Forest Regressor"
   ]
  },
  {
   "cell_type": "code",
   "execution_count": 74,
   "metadata": {
    "id": "ULsLsToQDr04",
    "outputId": "1cb0b583-cd3f-4c8d-e1e5-eba33bcb2853"
   },
   "outputs": [
    {
     "data": {
      "text/plain": [
       "RandomForestRegressor()"
      ]
     },
     "execution_count": 74,
     "metadata": {},
     "output_type": "execute_result"
    }
   ],
   "source": [
    "rfr=RandomForestRegressor()\n",
    "rfr"
   ]
  },
  {
   "cell_type": "code",
   "execution_count": 75,
   "metadata": {
    "id": "D2WtMW-MDr04",
    "outputId": "6cdba809-54ab-4b89-f180-098ba2a7baa8"
   },
   "outputs": [
    {
     "data": {
      "text/plain": [
       "RandomForestRegressor()"
      ]
     },
     "execution_count": 75,
     "metadata": {},
     "output_type": "execute_result"
    }
   ],
   "source": [
    "rfr.fit(X_train,y_train)"
   ]
  },
  {
   "cell_type": "code",
   "execution_count": 76,
   "metadata": {
    "id": "iktQRQtGDr04",
    "outputId": "a9634221-d731-4609-b50e-f1ff0e53c76d"
   },
   "outputs": [
    {
     "name": "stdout",
     "output_type": "stream",
     "text": [
      "0.9836173350561618\n",
      "0.8863630376395697\n"
     ]
    }
   ],
   "source": [
    "print(rfr.score(X_train,y_train))\n",
    "print(rfr.score(X_test,y_test))"
   ]
  },
  {
   "cell_type": "code",
   "execution_count": 77,
   "metadata": {
    "id": "UczcXdxKDr04"
   },
   "outputs": [],
   "source": [
    "rfr_pred=rfr.predict(X_test)"
   ]
  },
  {
   "cell_type": "code",
   "execution_count": 78,
   "metadata": {
    "id": "ziCLz5LcDr04",
    "outputId": "be11c1a7-41e9-4228-fb5f-718ae47d3e06"
   },
   "outputs": [
    {
     "name": "stdout",
     "output_type": "stream",
     "text": [
      "Accuracy score for LR : 88.63630376395697\n"
     ]
    }
   ],
   "source": [
    "from sklearn.metrics import r2_score\n",
    "\n",
    "rfr_score=r2_score(y_test,rfr_pred)*100\n",
    "print(\"Accuracy score for LR :\",rfr_score)"
   ]
  },
  {
   "cell_type": "markdown",
   "metadata": {
    "id": "wLyretbcDr04"
   },
   "source": [
    "---\n",
    "## 5. Support Vector Regression"
   ]
  },
  {
   "cell_type": "code",
   "execution_count": 79,
   "metadata": {
    "id": "ka4O8WR5Dr04"
   },
   "outputs": [],
   "source": [
    "from sklearn.svm import SVR"
   ]
  },
  {
   "cell_type": "code",
   "execution_count": 80,
   "metadata": {
    "id": "88GyQSeGDr04",
    "outputId": "b48dfe30-ad14-49c6-b1f1-02ac206169e9"
   },
   "outputs": [
    {
     "data": {
      "text/plain": [
       "SVR()"
      ]
     },
     "execution_count": 80,
     "metadata": {},
     "output_type": "execute_result"
    }
   ],
   "source": [
    "svr=SVR()\n",
    "svr.fit(X_train,y_train)"
   ]
  },
  {
   "cell_type": "code",
   "execution_count": 81,
   "metadata": {
    "id": "0Z63pvqODr04",
    "outputId": "870a0bbd-4033-4c2e-aec9-53546679781b"
   },
   "outputs": [
    {
     "name": "stdout",
     "output_type": "stream",
     "text": [
      "0.4556810222352784\n",
      "0.4257867353901841\n"
     ]
    }
   ],
   "source": [
    "print(svr.score(X_train,y_train))\n",
    "print(svr.score(X_test,y_test))"
   ]
  },
  {
   "cell_type": "code",
   "execution_count": 82,
   "metadata": {
    "id": "GNdrbuGiDr04"
   },
   "outputs": [],
   "source": [
    "svr_pred=svr.predict(X_test)"
   ]
  },
  {
   "cell_type": "code",
   "execution_count": 83,
   "metadata": {
    "id": "J5o-0-oADr04",
    "outputId": "32f64903-81cd-4849-a8e9-e495494d09bb"
   },
   "outputs": [
    {
     "name": "stdout",
     "output_type": "stream",
     "text": [
      "Accuracy score for LR : 42.57867353901841\n"
     ]
    }
   ],
   "source": [
    "from sklearn.metrics import r2_score\n",
    "\n",
    "svr_score=r2_score(y_test,svr_pred)*100\n",
    "print(\"Accuracy score for LR :\",svr_score)"
   ]
  },
  {
   "cell_type": "code",
   "execution_count": 84,
   "metadata": {
    "id": "do3ly7HTDr04",
    "outputId": "555a4be1-c15e-4fed-c130-09a2aa478924"
   },
   "outputs": [
    {
     "data": {
      "text/html": [
       "<div>\n",
       "<style scoped>\n",
       "    .dataframe tbody tr th:only-of-type {\n",
       "        vertical-align: middle;\n",
       "    }\n",
       "\n",
       "    .dataframe tbody tr th {\n",
       "        vertical-align: top;\n",
       "    }\n",
       "\n",
       "    .dataframe thead th {\n",
       "        text-align: right;\n",
       "    }\n",
       "</style>\n",
       "<table border=\"1\" class=\"dataframe\">\n",
       "  <thead>\n",
       "    <tr style=\"text-align: right;\">\n",
       "      <th></th>\n",
       "      <th>Model Names</th>\n",
       "      <th>Accuracy socre</th>\n",
       "    </tr>\n",
       "  </thead>\n",
       "  <tbody>\n",
       "    <tr>\n",
       "      <th>0</th>\n",
       "      <td>Linear Reg</td>\n",
       "      <td>27.726409</td>\n",
       "    </tr>\n",
       "    <tr>\n",
       "      <th>1</th>\n",
       "      <td>Ridge Reg</td>\n",
       "      <td>27.726505</td>\n",
       "    </tr>\n",
       "    <tr>\n",
       "      <th>2</th>\n",
       "      <td>Lasso Reg</td>\n",
       "      <td>-0.010693</td>\n",
       "    </tr>\n",
       "    <tr>\n",
       "      <th>3</th>\n",
       "      <td>RandomForest Reg</td>\n",
       "      <td>88.636304</td>\n",
       "    </tr>\n",
       "    <tr>\n",
       "      <th>4</th>\n",
       "      <td>Support Vector Reg</td>\n",
       "      <td>42.578674</td>\n",
       "    </tr>\n",
       "  </tbody>\n",
       "</table>\n",
       "</div>"
      ],
      "text/plain": [
       "          Model Names  Accuracy socre\n",
       "0          Linear Reg       27.726409\n",
       "1           Ridge Reg       27.726505\n",
       "2           Lasso Reg       -0.010693\n",
       "3    RandomForest Reg       88.636304\n",
       "4  Support Vector Reg       42.578674"
      ]
     },
     "execution_count": 84,
     "metadata": {},
     "output_type": "execute_result"
    }
   ],
   "source": [
    "pd.DataFrame({\"Model Names\":['Linear Reg','Ridge Reg','Lasso Reg','RandomForest Reg','Support Vector Reg'],\n",
    "            \"Accuracy socre\":[lin_reg_score,rr_score,lr_score,rfr_score,svr_score]})"
   ]
  },
  {
   "cell_type": "markdown",
   "metadata": {
    "id": "uMV1rFGCDr04"
   },
   "source": [
    "## As you can see from above data \"Random Forest Regressor\" Given the **highest Accuacry** score"
   ]
  },
  {
   "cell_type": "markdown",
   "metadata": {
    "id": "mh2xTZC0Dr04"
   },
   "source": [
    "---\n",
    "# PREDICT THE RATING with Random Forest Regressor Model"
   ]
  },
  {
   "cell_type": "code",
   "execution_count": 85,
   "metadata": {
    "id": "pFN9Hj3aDr04",
    "outputId": "03db427a-7dc3-4089-e6bb-0f55b7ac6a21"
   },
   "outputs": [
    {
     "data": {
      "text/plain": [
       "array([4.37])"
      ]
     },
     "execution_count": 85,
     "metadata": {},
     "output_type": "execute_result"
    }
   ],
   "source": [
    "rfr.predict([[1,0,13,73,1900,350,27]])"
   ]
  },
  {
   "cell_type": "markdown",
   "metadata": {
    "id": "dEa_7LI0Dr04"
   },
   "source": [
    "## We got 4.4 Rating for out first predict over model"
   ]
  },
  {
   "cell_type": "markdown",
   "metadata": {
    "id": "E6--LmwfDr04"
   },
   "source": [
    "## Compare Actual rating with Random Forest Regressor new Predicted Rating"
   ]
  },
  {
   "cell_type": "code",
   "execution_count": 86,
   "metadata": {
    "id": "liQoLZRxDr04",
    "outputId": "805803f5-c3bc-4250-d97b-08398f4ca973"
   },
   "outputs": [
    {
     "data": {
      "text/html": [
       "<div>\n",
       "<style scoped>\n",
       "    .dataframe tbody tr th:only-of-type {\n",
       "        vertical-align: middle;\n",
       "    }\n",
       "\n",
       "    .dataframe tbody tr th {\n",
       "        vertical-align: top;\n",
       "    }\n",
       "\n",
       "    .dataframe thead th {\n",
       "        text-align: right;\n",
       "    }\n",
       "</style>\n",
       "<table border=\"1\" class=\"dataframe\">\n",
       "  <thead>\n",
       "    <tr style=\"text-align: right;\">\n",
       "      <th></th>\n",
       "      <th>Actual Ratin</th>\n",
       "      <th>Predicted Rating</th>\n",
       "    </tr>\n",
       "  </thead>\n",
       "  <tbody>\n",
       "    <tr>\n",
       "      <th>0</th>\n",
       "      <td>3.7</td>\n",
       "      <td>3.71</td>\n",
       "    </tr>\n",
       "    <tr>\n",
       "      <th>1</th>\n",
       "      <td>3.3</td>\n",
       "      <td>3.60</td>\n",
       "    </tr>\n",
       "    <tr>\n",
       "      <th>2</th>\n",
       "      <td>3.9</td>\n",
       "      <td>3.85</td>\n",
       "    </tr>\n",
       "    <tr>\n",
       "      <th>3</th>\n",
       "      <td>3.7</td>\n",
       "      <td>3.50</td>\n",
       "    </tr>\n",
       "    <tr>\n",
       "      <th>4</th>\n",
       "      <td>3.2</td>\n",
       "      <td>3.21</td>\n",
       "    </tr>\n",
       "    <tr>\n",
       "      <th>...</th>\n",
       "      <td>...</td>\n",
       "      <td>...</td>\n",
       "    </tr>\n",
       "    <tr>\n",
       "      <th>3292</th>\n",
       "      <td>4.5</td>\n",
       "      <td>4.47</td>\n",
       "    </tr>\n",
       "    <tr>\n",
       "      <th>3293</th>\n",
       "      <td>4.1</td>\n",
       "      <td>3.90</td>\n",
       "    </tr>\n",
       "    <tr>\n",
       "      <th>3294</th>\n",
       "      <td>3.8</td>\n",
       "      <td>3.81</td>\n",
       "    </tr>\n",
       "    <tr>\n",
       "      <th>3295</th>\n",
       "      <td>4.1</td>\n",
       "      <td>4.10</td>\n",
       "    </tr>\n",
       "    <tr>\n",
       "      <th>3296</th>\n",
       "      <td>4.5</td>\n",
       "      <td>4.51</td>\n",
       "    </tr>\n",
       "  </tbody>\n",
       "</table>\n",
       "<p>3297 rows × 2 columns</p>\n",
       "</div>"
      ],
      "text/plain": [
       "      Actual Ratin  Predicted Rating\n",
       "0              3.7              3.71\n",
       "1              3.3              3.60\n",
       "2              3.9              3.85\n",
       "3              3.7              3.50\n",
       "4              3.2              3.21\n",
       "...            ...               ...\n",
       "3292           4.5              4.47\n",
       "3293           4.1              3.90\n",
       "3294           3.8              3.81\n",
       "3295           4.1              4.10\n",
       "3296           4.5              4.51\n",
       "\n",
       "[3297 rows x 2 columns]"
      ]
     },
     "execution_count": 86,
     "metadata": {},
     "output_type": "execute_result"
    }
   ],
   "source": [
    "sample=pd.DataFrame({\"Actual Ratin\":y_test,\n",
    "             \"Predicted Rating\":np.round(rfr_pred,2)})\n",
    "sample"
   ]
  },
  {
   "cell_type": "markdown",
   "metadata": {
    "id": "L2XAHu7gDr05"
   },
   "source": [
    "## AS you can see Our model is working good its predicted Ratings is Nearly to the Actual Ratings"
   ]
  },
  {
   "cell_type": "markdown",
   "metadata": {
    "id": "akBd4013Dr05"
   },
   "source": [
    "---\n",
    "## Save Ratings Sample as a CSV file"
   ]
  },
  {
   "cell_type": "code",
   "execution_count": 87,
   "metadata": {
    "id": "b2gA_xdhDr05"
   },
   "outputs": [],
   "source": [
    "sample.to_csv(\"Model Prediction Sample.csv\",index=False)"
   ]
  },
  {
   "cell_type": "markdown",
   "metadata": {
    "id": "vRbg3oQDDr05"
   },
   "source": [
    "# THANK YOU"
   ]
  }
 ],
 "metadata": {
  "colab": {
   "name": "Zomato_Rating_Prediction.ipynb",
   "provenance": []
  },
  "kernelspec": {
   "display_name": "Python 3",
   "language": "python",
   "name": "python3"
  },
  "language_info": {
   "codemirror_mode": {
    "name": "ipython",
    "version": 3
   },
   "file_extension": ".py",
   "mimetype": "text/x-python",
   "name": "python",
   "nbconvert_exporter": "python",
   "pygments_lexer": "ipython3",
   "version": "3.8.1"
  }
 },
 "nbformat": 4,
 "nbformat_minor": 1
}
